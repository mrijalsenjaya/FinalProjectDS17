{
  "cells": [
    {
      "cell_type": "markdown",
      "metadata": {
        "id": "RVWoLWA_o4px"
      },
      "source": [
        "## **About Dataset**\n",
        "\n",
        "**Context**\n",
        "\n",
        "The dataset is from the U.S. Small Business Administration (SBA)\n",
        "\n",
        "The U.S. SBA was founded in 1953 on the principle of promoting and assisting small enterprises in the U.S. credit market (SBA Overview and History, US Small Business Administration (2015)). Small businesses have been a primary source of job creation in the United States; therefore, fostering small business formation and growth has social benefits by creating job opportunities and reducing unemployment.\n",
        "\n",
        "There have been many success stories of start-ups receiving SBA loan guarantees such as FedEx and Apple Computer. However, there have also been stories of small businesses and/or start-ups that have defaulted on their SBA-guaranteed loans.\n",
        "\n",
        "Small business owners often seek out SBA (Small Business Association) loans because they guarantee part of the loan. Without going into too much detail, this basically means that the SBA will cover some of the losses should the business default on the loan, which lowers the risk involved for the business owner(s). This increases the risk to the SBA however, which can sometimes make it difficult to get accepted for one of their loan program.\n",
        "\n",
        "**Content**\n",
        "\n",
        "Shape of the data: 899164 rows and 27 columns"
      ]
    },
    {
      "cell_type": "markdown",
      "metadata": {
        "id": "86lVUYcjppf0"
      },
      "source": [
        "## **About Project**\n",
        "\n",
        "This is my first project to fulfill assigned tasks from Bootcamp Data Science Dibimbing Batch 17. I got this dataset from kaggle and so much inspired by Kevin Miller and Aldito Patriza who have succesfully completed the project.\n",
        "\n"
      ]
    },
    {
      "cell_type": "markdown",
      "metadata": {
        "id": "favorite-syntax"
      },
      "source": [
        "# Importing Libraries and Data"
      ]
    },
    {
      "cell_type": "code",
      "execution_count": null,
      "metadata": {
        "id": "auburn-aluminum"
      },
      "outputs": [],
      "source": [
        "#importing basic library \n",
        "\n",
        "import pandas as pd\n",
        "import numpy as np\n",
        "import matplotlib.pyplot as plt\n",
        "import seaborn as sns\n",
        "from sklearn.model_selection import train_test_split, cross_val_score\n",
        "from sklearn.metrics import accuracy_score, confusion_matrix, classification_report\n",
        "from sklearn.preprocessing import StandardScaler\n",
        "from sklearn.pipeline import Pipeline\n",
        "from sklearn.feature_selection import SelectKBest\n",
        "from sklearn.linear_model import SGDRegressor\n",
        "from sklearn.linear_model import LogisticRegression\n",
        "from xgboost import XGBClassifier"
      ]
    },
    {
      "cell_type": "code",
      "execution_count": null,
      "metadata": {
        "colab": {
          "base_uri": "https://localhost:8080/"
        },
        "id": "stock-rental",
        "outputId": "667874bd-22ff-4a07-ebc4-88c2c23ca348"
      },
      "outputs": [
        {
          "output_type": "stream",
          "name": "stdout",
          "text": [
            "Mounted at /content/drive\n"
          ]
        }
      ],
      "source": [
        "from google.colab import drive\n",
        "drive.mount('/content/drive')"
      ]
    },
    {
      "cell_type": "code",
      "execution_count": null,
      "metadata": {
        "colab": {
          "base_uri": "https://localhost:8080/"
        },
        "id": "formal-princess",
        "outputId": "56abc002-dc70-4d6b-c7ab-f07fed6fcc6c"
      },
      "outputs": [
        {
          "output_type": "stream",
          "name": "stderr",
          "text": [
            "<ipython-input-3-ab003d4b6a51>:1: DtypeWarning: Columns (9) have mixed types. Specify dtype option on import or set low_memory=False.\n",
            "  df = pd.read_csv('/content/drive/My Drive/Dibimbing Bootcamp Data Science/loan.csv')\n"
          ]
        }
      ],
      "source": [
        "df = pd.read_csv('/content/drive/My Drive/Dibimbing Bootcamp Data Science/loan.csv')"
      ]
    },
    {
      "cell_type": "code",
      "execution_count": null,
      "metadata": {
        "colab": {
          "base_uri": "https://localhost:8080/"
        },
        "id": "superb-adelaide",
        "outputId": "33b29b5b-ac90-47d4-a32a-beb29c104aba"
      },
      "outputs": [
        {
          "output_type": "execute_result",
          "data": {
            "text/plain": [
              "(899164, 27)"
            ]
          },
          "metadata": {},
          "execution_count": 4
        }
      ],
      "source": [
        "df.shape"
      ]
    },
    {
      "cell_type": "code",
      "execution_count": null,
      "metadata": {
        "colab": {
          "base_uri": "https://localhost:8080/",
          "height": 542
        },
        "id": "ohryi1gFuyog",
        "outputId": "af1651a8-15b6-44e2-9cc0-ef365760216e"
      },
      "outputs": [
        {
          "output_type": "execute_result",
          "data": {
            "text/plain": [
              "   LoanNr_ChkDgt                           Name          City State    Zip  \\\n",
              "0     1000014003                 ABC HOBBYCRAFT    EVANSVILLE    IN  47711   \n",
              "1     1000024006    LANDMARK BAR & GRILLE (THE)     NEW PARIS    IN  46526   \n",
              "2     1000034009          WHITLOCK DDS, TODD M.   BLOOMINGTON    IN  47401   \n",
              "3     1000044001  BIG BUCKS PAWN & JEWELRY, LLC  BROKEN ARROW    OK  74012   \n",
              "4     1000054004    ANASTASIA CONFECTIONS, INC.       ORLANDO    FL  32801   \n",
              "\n",
              "                            Bank BankState   NAICS ApprovalDate ApprovalFY  \\\n",
              "0               FIFTH THIRD BANK        OH  451120    28-Feb-97       1997   \n",
              "1                1ST SOURCE BANK        IN  722410    28-Feb-97       1997   \n",
              "2        GRANT COUNTY STATE BANK        IN  621210    28-Feb-97       1997   \n",
              "3  1ST NATL BK & TR CO OF BROKEN        OK       0    28-Feb-97       1997   \n",
              "4        FLORIDA BUS. DEVEL CORP        FL       0    28-Feb-97       1997   \n",
              "\n",
              "   ...  RevLineCr  LowDoc  ChgOffDate  DisbursementDate  DisbursementGross  \\\n",
              "0  ...          N       Y         NaN         28-Feb-99        $60,000.00    \n",
              "1  ...          N       Y         NaN         31-May-97        $40,000.00    \n",
              "2  ...          N       N         NaN         31-Dec-97       $287,000.00    \n",
              "3  ...          N       Y         NaN         30-Jun-97        $35,000.00    \n",
              "4  ...          N       N         NaN         14-May-97       $229,000.00    \n",
              "\n",
              "   BalanceGross  MIS_Status ChgOffPrinGr        GrAppv      SBA_Appv  \n",
              "0        $0.00        P I F       $0.00    $60,000.00    $48,000.00   \n",
              "1        $0.00        P I F       $0.00    $40,000.00    $32,000.00   \n",
              "2        $0.00        P I F       $0.00   $287,000.00   $215,250.00   \n",
              "3        $0.00        P I F       $0.00    $35,000.00    $28,000.00   \n",
              "4        $0.00        P I F       $0.00   $229,000.00   $229,000.00   \n",
              "\n",
              "[5 rows x 27 columns]"
            ],
            "text/html": [
              "\n",
              "  <div id=\"df-fc5f10cb-c7b2-495b-bf65-faee61cb6e45\">\n",
              "    <div class=\"colab-df-container\">\n",
              "      <div>\n",
              "<style scoped>\n",
              "    .dataframe tbody tr th:only-of-type {\n",
              "        vertical-align: middle;\n",
              "    }\n",
              "\n",
              "    .dataframe tbody tr th {\n",
              "        vertical-align: top;\n",
              "    }\n",
              "\n",
              "    .dataframe thead th {\n",
              "        text-align: right;\n",
              "    }\n",
              "</style>\n",
              "<table border=\"1\" class=\"dataframe\">\n",
              "  <thead>\n",
              "    <tr style=\"text-align: right;\">\n",
              "      <th></th>\n",
              "      <th>LoanNr_ChkDgt</th>\n",
              "      <th>Name</th>\n",
              "      <th>City</th>\n",
              "      <th>State</th>\n",
              "      <th>Zip</th>\n",
              "      <th>Bank</th>\n",
              "      <th>BankState</th>\n",
              "      <th>NAICS</th>\n",
              "      <th>ApprovalDate</th>\n",
              "      <th>ApprovalFY</th>\n",
              "      <th>...</th>\n",
              "      <th>RevLineCr</th>\n",
              "      <th>LowDoc</th>\n",
              "      <th>ChgOffDate</th>\n",
              "      <th>DisbursementDate</th>\n",
              "      <th>DisbursementGross</th>\n",
              "      <th>BalanceGross</th>\n",
              "      <th>MIS_Status</th>\n",
              "      <th>ChgOffPrinGr</th>\n",
              "      <th>GrAppv</th>\n",
              "      <th>SBA_Appv</th>\n",
              "    </tr>\n",
              "  </thead>\n",
              "  <tbody>\n",
              "    <tr>\n",
              "      <th>0</th>\n",
              "      <td>1000014003</td>\n",
              "      <td>ABC HOBBYCRAFT</td>\n",
              "      <td>EVANSVILLE</td>\n",
              "      <td>IN</td>\n",
              "      <td>47711</td>\n",
              "      <td>FIFTH THIRD BANK</td>\n",
              "      <td>OH</td>\n",
              "      <td>451120</td>\n",
              "      <td>28-Feb-97</td>\n",
              "      <td>1997</td>\n",
              "      <td>...</td>\n",
              "      <td>N</td>\n",
              "      <td>Y</td>\n",
              "      <td>NaN</td>\n",
              "      <td>28-Feb-99</td>\n",
              "      <td>$60,000.00</td>\n",
              "      <td>$0.00</td>\n",
              "      <td>P I F</td>\n",
              "      <td>$0.00</td>\n",
              "      <td>$60,000.00</td>\n",
              "      <td>$48,000.00</td>\n",
              "    </tr>\n",
              "    <tr>\n",
              "      <th>1</th>\n",
              "      <td>1000024006</td>\n",
              "      <td>LANDMARK BAR &amp; GRILLE (THE)</td>\n",
              "      <td>NEW PARIS</td>\n",
              "      <td>IN</td>\n",
              "      <td>46526</td>\n",
              "      <td>1ST SOURCE BANK</td>\n",
              "      <td>IN</td>\n",
              "      <td>722410</td>\n",
              "      <td>28-Feb-97</td>\n",
              "      <td>1997</td>\n",
              "      <td>...</td>\n",
              "      <td>N</td>\n",
              "      <td>Y</td>\n",
              "      <td>NaN</td>\n",
              "      <td>31-May-97</td>\n",
              "      <td>$40,000.00</td>\n",
              "      <td>$0.00</td>\n",
              "      <td>P I F</td>\n",
              "      <td>$0.00</td>\n",
              "      <td>$40,000.00</td>\n",
              "      <td>$32,000.00</td>\n",
              "    </tr>\n",
              "    <tr>\n",
              "      <th>2</th>\n",
              "      <td>1000034009</td>\n",
              "      <td>WHITLOCK DDS, TODD M.</td>\n",
              "      <td>BLOOMINGTON</td>\n",
              "      <td>IN</td>\n",
              "      <td>47401</td>\n",
              "      <td>GRANT COUNTY STATE BANK</td>\n",
              "      <td>IN</td>\n",
              "      <td>621210</td>\n",
              "      <td>28-Feb-97</td>\n",
              "      <td>1997</td>\n",
              "      <td>...</td>\n",
              "      <td>N</td>\n",
              "      <td>N</td>\n",
              "      <td>NaN</td>\n",
              "      <td>31-Dec-97</td>\n",
              "      <td>$287,000.00</td>\n",
              "      <td>$0.00</td>\n",
              "      <td>P I F</td>\n",
              "      <td>$0.00</td>\n",
              "      <td>$287,000.00</td>\n",
              "      <td>$215,250.00</td>\n",
              "    </tr>\n",
              "    <tr>\n",
              "      <th>3</th>\n",
              "      <td>1000044001</td>\n",
              "      <td>BIG BUCKS PAWN &amp; JEWELRY, LLC</td>\n",
              "      <td>BROKEN ARROW</td>\n",
              "      <td>OK</td>\n",
              "      <td>74012</td>\n",
              "      <td>1ST NATL BK &amp; TR CO OF BROKEN</td>\n",
              "      <td>OK</td>\n",
              "      <td>0</td>\n",
              "      <td>28-Feb-97</td>\n",
              "      <td>1997</td>\n",
              "      <td>...</td>\n",
              "      <td>N</td>\n",
              "      <td>Y</td>\n",
              "      <td>NaN</td>\n",
              "      <td>30-Jun-97</td>\n",
              "      <td>$35,000.00</td>\n",
              "      <td>$0.00</td>\n",
              "      <td>P I F</td>\n",
              "      <td>$0.00</td>\n",
              "      <td>$35,000.00</td>\n",
              "      <td>$28,000.00</td>\n",
              "    </tr>\n",
              "    <tr>\n",
              "      <th>4</th>\n",
              "      <td>1000054004</td>\n",
              "      <td>ANASTASIA CONFECTIONS, INC.</td>\n",
              "      <td>ORLANDO</td>\n",
              "      <td>FL</td>\n",
              "      <td>32801</td>\n",
              "      <td>FLORIDA BUS. DEVEL CORP</td>\n",
              "      <td>FL</td>\n",
              "      <td>0</td>\n",
              "      <td>28-Feb-97</td>\n",
              "      <td>1997</td>\n",
              "      <td>...</td>\n",
              "      <td>N</td>\n",
              "      <td>N</td>\n",
              "      <td>NaN</td>\n",
              "      <td>14-May-97</td>\n",
              "      <td>$229,000.00</td>\n",
              "      <td>$0.00</td>\n",
              "      <td>P I F</td>\n",
              "      <td>$0.00</td>\n",
              "      <td>$229,000.00</td>\n",
              "      <td>$229,000.00</td>\n",
              "    </tr>\n",
              "  </tbody>\n",
              "</table>\n",
              "<p>5 rows × 27 columns</p>\n",
              "</div>\n",
              "      <button class=\"colab-df-convert\" onclick=\"convertToInteractive('df-fc5f10cb-c7b2-495b-bf65-faee61cb6e45')\"\n",
              "              title=\"Convert this dataframe to an interactive table.\"\n",
              "              style=\"display:none;\">\n",
              "        \n",
              "  <svg xmlns=\"http://www.w3.org/2000/svg\" height=\"24px\"viewBox=\"0 0 24 24\"\n",
              "       width=\"24px\">\n",
              "    <path d=\"M0 0h24v24H0V0z\" fill=\"none\"/>\n",
              "    <path d=\"M18.56 5.44l.94 2.06.94-2.06 2.06-.94-2.06-.94-.94-2.06-.94 2.06-2.06.94zm-11 1L8.5 8.5l.94-2.06 2.06-.94-2.06-.94L8.5 2.5l-.94 2.06-2.06.94zm10 10l.94 2.06.94-2.06 2.06-.94-2.06-.94-.94-2.06-.94 2.06-2.06.94z\"/><path d=\"M17.41 7.96l-1.37-1.37c-.4-.4-.92-.59-1.43-.59-.52 0-1.04.2-1.43.59L10.3 9.45l-7.72 7.72c-.78.78-.78 2.05 0 2.83L4 21.41c.39.39.9.59 1.41.59.51 0 1.02-.2 1.41-.59l7.78-7.78 2.81-2.81c.8-.78.8-2.07 0-2.86zM5.41 20L4 18.59l7.72-7.72 1.47 1.35L5.41 20z\"/>\n",
              "  </svg>\n",
              "      </button>\n",
              "      \n",
              "  <style>\n",
              "    .colab-df-container {\n",
              "      display:flex;\n",
              "      flex-wrap:wrap;\n",
              "      gap: 12px;\n",
              "    }\n",
              "\n",
              "    .colab-df-convert {\n",
              "      background-color: #E8F0FE;\n",
              "      border: none;\n",
              "      border-radius: 50%;\n",
              "      cursor: pointer;\n",
              "      display: none;\n",
              "      fill: #1967D2;\n",
              "      height: 32px;\n",
              "      padding: 0 0 0 0;\n",
              "      width: 32px;\n",
              "    }\n",
              "\n",
              "    .colab-df-convert:hover {\n",
              "      background-color: #E2EBFA;\n",
              "      box-shadow: 0px 1px 2px rgba(60, 64, 67, 0.3), 0px 1px 3px 1px rgba(60, 64, 67, 0.15);\n",
              "      fill: #174EA6;\n",
              "    }\n",
              "\n",
              "    [theme=dark] .colab-df-convert {\n",
              "      background-color: #3B4455;\n",
              "      fill: #D2E3FC;\n",
              "    }\n",
              "\n",
              "    [theme=dark] .colab-df-convert:hover {\n",
              "      background-color: #434B5C;\n",
              "      box-shadow: 0px 1px 3px 1px rgba(0, 0, 0, 0.15);\n",
              "      filter: drop-shadow(0px 1px 2px rgba(0, 0, 0, 0.3));\n",
              "      fill: #FFFFFF;\n",
              "    }\n",
              "  </style>\n",
              "\n",
              "      <script>\n",
              "        const buttonEl =\n",
              "          document.querySelector('#df-fc5f10cb-c7b2-495b-bf65-faee61cb6e45 button.colab-df-convert');\n",
              "        buttonEl.style.display =\n",
              "          google.colab.kernel.accessAllowed ? 'block' : 'none';\n",
              "\n",
              "        async function convertToInteractive(key) {\n",
              "          const element = document.querySelector('#df-fc5f10cb-c7b2-495b-bf65-faee61cb6e45');\n",
              "          const dataTable =\n",
              "            await google.colab.kernel.invokeFunction('convertToInteractive',\n",
              "                                                     [key], {});\n",
              "          if (!dataTable) return;\n",
              "\n",
              "          const docLinkHtml = 'Like what you see? Visit the ' +\n",
              "            '<a target=\"_blank\" href=https://colab.research.google.com/notebooks/data_table.ipynb>data table notebook</a>'\n",
              "            + ' to learn more about interactive tables.';\n",
              "          element.innerHTML = '';\n",
              "          dataTable['output_type'] = 'display_data';\n",
              "          await google.colab.output.renderOutput(dataTable, element);\n",
              "          const docLink = document.createElement('div');\n",
              "          docLink.innerHTML = docLinkHtml;\n",
              "          element.appendChild(docLink);\n",
              "        }\n",
              "      </script>\n",
              "    </div>\n",
              "  </div>\n",
              "  "
            ]
          },
          "metadata": {},
          "execution_count": 5
        }
      ],
      "source": [
        "df.head()"
      ]
    },
    {
      "cell_type": "code",
      "execution_count": null,
      "metadata": {
        "colab": {
          "base_uri": "https://localhost:8080/"
        },
        "id": "A04IVROmu0oV",
        "outputId": "c3e80f49-3b6b-4540-e2db-bf6f406cbf98"
      },
      "outputs": [
        {
          "output_type": "stream",
          "name": "stdout",
          "text": [
            "<class 'pandas.core.frame.DataFrame'>\n",
            "RangeIndex: 899164 entries, 0 to 899163\n",
            "Data columns (total 27 columns):\n",
            " #   Column             Non-Null Count   Dtype  \n",
            "---  ------             --------------   -----  \n",
            " 0   LoanNr_ChkDgt      899164 non-null  int64  \n",
            " 1   Name               899150 non-null  object \n",
            " 2   City               899134 non-null  object \n",
            " 3   State              899150 non-null  object \n",
            " 4   Zip                899164 non-null  int64  \n",
            " 5   Bank               897605 non-null  object \n",
            " 6   BankState          897598 non-null  object \n",
            " 7   NAICS              899164 non-null  int64  \n",
            " 8   ApprovalDate       899164 non-null  object \n",
            " 9   ApprovalFY         899164 non-null  object \n",
            " 10  Term               899164 non-null  int64  \n",
            " 11  NoEmp              899164 non-null  int64  \n",
            " 12  NewExist           899028 non-null  float64\n",
            " 13  CreateJob          899164 non-null  int64  \n",
            " 14  RetainedJob        899164 non-null  int64  \n",
            " 15  FranchiseCode      899164 non-null  int64  \n",
            " 16  UrbanRural         899164 non-null  int64  \n",
            " 17  RevLineCr          894636 non-null  object \n",
            " 18  LowDoc             896582 non-null  object \n",
            " 19  ChgOffDate         162699 non-null  object \n",
            " 20  DisbursementDate   896796 non-null  object \n",
            " 21  DisbursementGross  899164 non-null  object \n",
            " 22  BalanceGross       899164 non-null  object \n",
            " 23  MIS_Status         897167 non-null  object \n",
            " 24  ChgOffPrinGr       899164 non-null  object \n",
            " 25  GrAppv             899164 non-null  object \n",
            " 26  SBA_Appv           899164 non-null  object \n",
            "dtypes: float64(1), int64(9), object(17)\n",
            "memory usage: 185.2+ MB\n"
          ]
        }
      ],
      "source": [
        "df.info()"
      ]
    },
    {
      "cell_type": "markdown",
      "metadata": {
        "id": "XpNdjEoHWG00"
      },
      "source": [
        "# Data Cleaning"
      ]
    },
    {
      "cell_type": "code",
      "execution_count": null,
      "metadata": {
        "colab": {
          "base_uri": "https://localhost:8080/"
        },
        "id": "2-pdMusx9xKm",
        "outputId": "e1e9541c-252e-429a-8988-258c95f06985"
      },
      "outputs": [
        {
          "output_type": "execute_result",
          "data": {
            "text/plain": [
              "0"
            ]
          },
          "metadata": {},
          "execution_count": 7
        }
      ],
      "source": [
        "#Checking for duplicate\n",
        "df.duplicated().sum()"
      ]
    },
    {
      "cell_type": "markdown",
      "metadata": {
        "id": "LPNtWJHJ-Iic"
      },
      "source": [
        "Duplicated value is not indentified in the dataset"
      ]
    },
    {
      "cell_type": "code",
      "execution_count": null,
      "metadata": {
        "colab": {
          "base_uri": "https://localhost:8080/"
        },
        "id": "IGmweJd6vNx3",
        "outputId": "e864f6dd-de79-42ec-df86-50d14c8d3700"
      },
      "outputs": [
        {
          "output_type": "execute_result",
          "data": {
            "text/plain": [
              "LoanNr_ChkDgt             0\n",
              "Name                     14\n",
              "City                     30\n",
              "State                    14\n",
              "Zip                       0\n",
              "Bank                   1559\n",
              "BankState              1566\n",
              "NAICS                     0\n",
              "ApprovalDate              0\n",
              "ApprovalFY                0\n",
              "Term                      0\n",
              "NoEmp                     0\n",
              "NewExist                136\n",
              "CreateJob                 0\n",
              "RetainedJob               0\n",
              "FranchiseCode             0\n",
              "UrbanRural                0\n",
              "RevLineCr              4528\n",
              "LowDoc                 2582\n",
              "ChgOffDate           736465\n",
              "DisbursementDate       2368\n",
              "DisbursementGross         0\n",
              "BalanceGross              0\n",
              "MIS_Status             1997\n",
              "ChgOffPrinGr              0\n",
              "GrAppv                    0\n",
              "SBA_Appv                  0\n",
              "dtype: int64"
            ]
          },
          "metadata": {},
          "execution_count": 8
        }
      ],
      "source": [
        "#Checking for missing values\n",
        "df.isnull().sum()"
      ]
    },
    {
      "cell_type": "markdown",
      "metadata": {
        "id": "wOp5WSqC4cpq"
      },
      "source": [
        "All features that contain missing value has small percentage to the whole data (<1%), except 'ChgOffDate' (>80%). So we will drop the missing values and the 'ChgOffDate' column."
      ]
    },
    {
      "cell_type": "code",
      "execution_count": null,
      "metadata": {
        "colab": {
          "base_uri": "https://localhost:8080/"
        },
        "id": "npvf524l4Hve",
        "outputId": "a76be6a0-1fcb-4f03-e3f7-63bf18b54dbf"
      },
      "outputs": [
        {
          "output_type": "execute_result",
          "data": {
            "text/plain": [
              "LoanNr_ChkDgt             0\n",
              "Name                      0\n",
              "City                      0\n",
              "State                     0\n",
              "Zip                       0\n",
              "Bank                      0\n",
              "BankState                 0\n",
              "NAICS                     0\n",
              "ApprovalDate              0\n",
              "ApprovalFY                0\n",
              "Term                      0\n",
              "NoEmp                     0\n",
              "NewExist                  0\n",
              "CreateJob                 0\n",
              "RetainedJob               0\n",
              "FranchiseCode             0\n",
              "UrbanRural                0\n",
              "RevLineCr                 0\n",
              "LowDoc                    0\n",
              "ChgOffDate           725369\n",
              "DisbursementDate          0\n",
              "DisbursementGross         0\n",
              "BalanceGross              0\n",
              "MIS_Status                0\n",
              "ChgOffPrinGr              0\n",
              "GrAppv                    0\n",
              "SBA_Appv                  0\n",
              "dtype: int64"
            ]
          },
          "metadata": {},
          "execution_count": 9
        }
      ],
      "source": [
        "#Drop Missing Value\n",
        "df.dropna(subset=['Name', 'City', 'State', 'BankState', 'NewExist','RevLineCr', 'LowDoc', 'DisbursementDate', 'MIS_Status'], inplace=True)\n",
        "df.isnull().sum()"
      ]
    },
    {
      "cell_type": "code",
      "execution_count": null,
      "metadata": {
        "id": "4-RWC5W17YoL"
      },
      "outputs": [],
      "source": [
        "#Drop Column 'ChgOffDate'\n",
        "df.drop(columns=['ChgOffDate'], inplace=True)"
      ]
    },
    {
      "cell_type": "markdown",
      "metadata": {
        "id": "LLvIs2qJ8LTz"
      },
      "source": [
        "The dataset has cleaned from duplicate and missing value. Now lets check the data type compatibility."
      ]
    },
    {
      "cell_type": "markdown",
      "metadata": {
        "id": "wVriQli-Dc8K"
      },
      "source": [
        "# Data Type Compatibility"
      ]
    },
    {
      "cell_type": "code",
      "execution_count": null,
      "metadata": {
        "colab": {
          "base_uri": "https://localhost:8080/"
        },
        "id": "GF1GxIP574fr",
        "outputId": "eb806615-bc29-4170-c444-505b28d6794e"
      },
      "outputs": [
        {
          "output_type": "execute_result",
          "data": {
            "text/plain": [
              "LoanNr_ChkDgt          int64\n",
              "Name                  object\n",
              "City                  object\n",
              "State                 object\n",
              "Zip                    int64\n",
              "Bank                  object\n",
              "BankState             object\n",
              "NAICS                  int64\n",
              "ApprovalDate          object\n",
              "ApprovalFY            object\n",
              "Term                   int64\n",
              "NoEmp                  int64\n",
              "NewExist             float64\n",
              "CreateJob              int64\n",
              "RetainedJob            int64\n",
              "FranchiseCode          int64\n",
              "UrbanRural             int64\n",
              "RevLineCr             object\n",
              "LowDoc                object\n",
              "DisbursementDate      object\n",
              "DisbursementGross     object\n",
              "BalanceGross          object\n",
              "MIS_Status            object\n",
              "ChgOffPrinGr          object\n",
              "GrAppv                object\n",
              "SBA_Appv              object\n",
              "dtype: object"
            ]
          },
          "metadata": {},
          "execution_count": 11
        }
      ],
      "source": [
        "# Check data types of each feature\n",
        "df.dtypes"
      ]
    },
    {
      "cell_type": "markdown",
      "metadata": {
        "id": "TvIu2DKe9fnC"
      },
      "source": [
        "First, I will change the data type of 'DisbursementGross', 'BalanceGross', 'ChgOffPrinGr', 'GrAppv', 'SBA_Appv' which should be integer instead of object. This is because the data come with $. "
      ]
    },
    {
      "cell_type": "code",
      "execution_count": null,
      "metadata": {
        "id": "qQbqARsi9Auk"
      },
      "outputs": [],
      "source": [
        "# Remove '$', commas, and extra spaces from records in columns with dollar values that should be floats\n",
        "df[['DisbursementGross', 'BalanceGross', 'ChgOffPrinGr', 'GrAppv', 'SBA_Appv']] = \\\n",
        "df[['DisbursementGross', 'BalanceGross', 'ChgOffPrinGr', 'GrAppv', 'SBA_Appv']].applymap(lambda x: x.strip().replace('$', '').replace(',', ''))"
      ]
    },
    {
      "cell_type": "markdown",
      "metadata": {
        "id": "8goOi0uh-ikg"
      },
      "source": [
        "Second, lets we change data type of 'ApprovalFY' which should be an integer but is coming up as an object type because there's a mixture of integers and strings here, with one record including an 'A' as well."
      ]
    },
    {
      "cell_type": "code",
      "execution_count": null,
      "metadata": {
        "colab": {
          "base_uri": "https://localhost:8080/"
        },
        "id": "fEQ6ZMKC_Wy7",
        "outputId": "110321f5-a3d1-4aba-cb39-8144b0dcb04d"
      },
      "outputs": [
        {
          "output_type": "execute_result",
          "data": {
            "text/plain": [
              "array([1997, 1980, 2006, 1998, 1999, 2000, 2001, 1972, 2003, 2004, 1978,\n",
              "       1979, 1981, 2005, 1982, 1983, 1973, 1984, 2007, 1985, 1986, 1987,\n",
              "       2008, 1988, 2009, 1989, 1991, 1990, 1974, 2010, 2011, 1992, 1993,\n",
              "       2002, 2012, 2013, 1994, 2014, 1975, 1977, 1976, '2004', '1994',\n",
              "       '1979', '1976', '1975', '1974', '1977', '1981', '1982', '1983',\n",
              "       '1984', '1978', '1980', '1968', '1976A', '1969', '1995', '1970',\n",
              "       '2005', '1996', '1971', 1996, 1971], dtype=object)"
            ]
          },
          "metadata": {},
          "execution_count": 13
        }
      ],
      "source": [
        "df['ApprovalFY'].unique()"
      ]
    },
    {
      "cell_type": "code",
      "execution_count": null,
      "metadata": {
        "id": "ThQWUFExCZ1S"
      },
      "outputs": [],
      "source": [
        "# Create a function to apply formatting to the records of str type only\n",
        "def clean_str(x):\n",
        "    if isinstance(x, str):\n",
        "        return x.replace('A', '')\n",
        "    return x\n",
        "\n",
        "\n",
        "df['ApprovalFY'] = df['ApprovalFY'].apply(clean_str).astype('int64')"
      ]
    },
    {
      "cell_type": "markdown",
      "metadata": {
        "id": "4FoODVioDlsl"
      },
      "source": [
        "Lets fix others column data type"
      ]
    },
    {
      "cell_type": "code",
      "execution_count": null,
      "metadata": {
        "colab": {
          "base_uri": "https://localhost:8080/"
        },
        "id": "j5lxsucmDs-p",
        "outputId": "d3e19fcd-d937-4be3-afc2-ca51579bf4a0"
      },
      "outputs": [
        {
          "output_type": "execute_result",
          "data": {
            "text/plain": [
              "LoanNr_ChkDgt                 int64\n",
              "Name                         object\n",
              "City                         object\n",
              "State                        object\n",
              "Zip                          object\n",
              "Bank                         object\n",
              "BankState                    object\n",
              "NAICS                         int64\n",
              "ApprovalDate         datetime64[ns]\n",
              "ApprovalFY                    int64\n",
              "Term                          int64\n",
              "NoEmp                         int64\n",
              "NewExist                      int64\n",
              "CreateJob                     int64\n",
              "RetainedJob                   int64\n",
              "FranchiseCode                 int64\n",
              "UrbanRural                   object\n",
              "RevLineCr                    object\n",
              "LowDoc                       object\n",
              "DisbursementDate     datetime64[ns]\n",
              "DisbursementGross           float64\n",
              "BalanceGross                float64\n",
              "MIS_Status                   object\n",
              "ChgOffPrinGr                float64\n",
              "GrAppv                      float64\n",
              "SBA_Appv                    float64\n",
              "dtype: object"
            ]
          },
          "metadata": {},
          "execution_count": 15
        }
      ],
      "source": [
        "# Change the type of NewExist to an integer, Zip and UrbanRural to str (categorical) and all currency-related fields to float values\n",
        "df = df.astype({'Zip': 'str', 'NewExist': 'int64', 'UrbanRural': 'str', 'DisbursementGross': 'float', 'BalanceGross': 'float',\n",
        "                          'ChgOffPrinGr': 'float', 'GrAppv': 'float', 'SBA_Appv': 'float'})\n",
        "\n",
        "# Convert ApprovalDate and DisbursementDate columns to datetime values\n",
        "df[['ApprovalDate', 'DisbursementDate']] = df[['ApprovalDate', 'DisbursementDate']].apply(pd.to_datetime)\n",
        "\n",
        "# Recheck data type\n",
        "df.dtypes"
      ]
    },
    {
      "cell_type": "markdown",
      "metadata": {
        "id": "4RysNmMnEQo1"
      },
      "source": [
        "# Data Manipulation"
      ]
    },
    {
      "cell_type": "markdown",
      "metadata": {
        "id": "GH-SsPY8FmUK"
      },
      "source": [
        "Lets convert the data of 'NAICS' from code number to the name of industry"
      ]
    },
    {
      "cell_type": "code",
      "execution_count": null,
      "metadata": {
        "id": "bY7CqqKGETjC"
      },
      "outputs": [],
      "source": [
        "# Create a new column with the industry the NAICS code represents\n",
        "# Selects only the first two numbers of the NAICS code\n",
        "df['Industry'] = df['NAICS'].astype('str').apply(lambda x: x[:2])\n",
        "\n",
        "# Maps the approprate industry to each record based on the first two digits of the NAICS code\n",
        "df['Industry'] = df['Industry'].map({\n",
        "    '11': 'Ag/For/Fish/Hunt',\n",
        "    '21': 'Min/Quar/Oil_Gas_ext',\n",
        "    '22': 'Utilities',\n",
        "    '23': 'Construction',\n",
        "    '31': 'Manufacturing',\n",
        "    '32': 'Manufacturing',\n",
        "    '33': 'Manufacturing',\n",
        "    '42': 'Wholesale_trade',\n",
        "    '44': 'Retail_trade',\n",
        "    '45': 'Retail_trade',\n",
        "    '48': 'Trans/Ware',\n",
        "    '49': 'Trans/Ware',\n",
        "    '51': 'Information',\n",
        "    '52': 'Finance/Insurance',\n",
        "    '53': 'RE/Rental/Lease',\n",
        "    '54': 'Prof/Science/Tech',\n",
        "    '55': 'Mgmt_comp',\n",
        "    '56': 'Admin_sup/Waste_Mgmt_Rem',\n",
        "    '61': 'Educational',\n",
        "    '62': 'Healthcare/Social_assist',\n",
        "    '71': 'Arts/Entertain/Rec',\n",
        "    '72': 'Accom/Food_serv',\n",
        "    '81': 'Other_no_pub',\n",
        "    '92': 'Public_Admin'\n",
        "})\n",
        "\n",
        "# Remove records where Industry is NaN (NAICS code was a 0)\n",
        "df.dropna(subset=['Industry'], inplace=True)"
      ]
    },
    {
      "cell_type": "markdown",
      "metadata": {
        "id": "C7C7M9boGGOB"
      },
      "source": [
        "Next, we use boolean to encode whether the business is franchise or not."
      ]
    },
    {
      "cell_type": "code",
      "execution_count": null,
      "metadata": {
        "id": "j4fII37LEmzI"
      },
      "outputs": [],
      "source": [
        "# Create feature IsFranchise from FranchiseCode column\n",
        "df.loc[(df['FranchiseCode'] <= 1), 'IsFranchise'] = 0\n",
        "df.loc[(df['FranchiseCode'] > 1), 'IsFranchise'] = 1"
      ]
    },
    {
      "cell_type": "markdown",
      "metadata": {
        "id": "o_Dn74QplVAC"
      },
      "source": [
        "Next lets look at some of the fields that are considered flags already but aren't necessarily in a useable format right now. These include the NewExist, RevLineCr, LowDoc, and MIS_Status fields."
      ]
    },
    {
      "cell_type": "code",
      "execution_count": null,
      "metadata": {
        "colab": {
          "base_uri": "https://localhost:8080/"
        },
        "id": "wIJp02mPlVAC",
        "outputId": "c78c5c6b-73ec-4c7a-c713-c3d28dcbe894"
      },
      "outputs": [
        {
          "output_type": "execute_result",
          "data": {
            "text/plain": [
              "array([2, 1, 0])"
            ]
          },
          "metadata": {},
          "execution_count": 18
        }
      ],
      "source": [
        "# NewExist\n",
        "df['NewExist'].unique()"
      ]
    },
    {
      "cell_type": "code",
      "execution_count": null,
      "metadata": {
        "colab": {
          "base_uri": "https://localhost:8080/"
        },
        "id": "krZDhuq3lVAQ",
        "outputId": "81ba2be6-5270-4305-c28e-991fe30ca8f0"
      },
      "outputs": [
        {
          "output_type": "stream",
          "name": "stderr",
          "text": [
            "<ipython-input-19-54ca9f8cacd8>:5: SettingWithCopyWarning: \n",
            "A value is trying to be set on a copy of a slice from a DataFrame.\n",
            "Try using .loc[row_indexer,col_indexer] = value instead\n",
            "\n",
            "See the caveats in the documentation: https://pandas.pydata.org/pandas-docs/stable/user_guide/indexing.html#returning-a-view-versus-a-copy\n",
            "  df.loc[(df['NewExist'] == 1), 'NewBusiness'] = 0\n"
          ]
        }
      ],
      "source": [
        "# Keep records where NewExist == 1 or 2\n",
        "df = df[(df['NewExist'] == 1) | (df['NewExist'] == 2)]\n",
        "\n",
        "# Create NewBusiness field where 0 = Existing business and 1 = New business; based on NewExist field\n",
        "df.loc[(df['NewExist'] == 1), 'NewBusiness'] = 0\n",
        "df.loc[(df['NewExist'] == 2), 'NewBusiness'] = 1"
      ]
    },
    {
      "cell_type": "code",
      "execution_count": null,
      "metadata": {
        "colab": {
          "base_uri": "https://localhost:8080/"
        },
        "id": "rRsdN2OHlVAQ",
        "outputId": "b2b9d68b-80eb-4e1d-cc6a-096542c7b7bd"
      },
      "outputs": [
        {
          "output_type": "execute_result",
          "data": {
            "text/plain": [
              "array(['N', 'Y', '0', 'T', '`', ',', '1', 'C', '2', 'R', '7', 'A', '-',\n",
              "       'Q'], dtype=object)"
            ]
          },
          "metadata": {},
          "execution_count": 20
        }
      ],
      "source": [
        "# RevLineCr and LowDoc\n",
        "df['RevLineCr'].unique()"
      ]
    },
    {
      "cell_type": "code",
      "execution_count": null,
      "metadata": {
        "colab": {
          "base_uri": "https://localhost:8080/"
        },
        "id": "TW2TslUJlVAR",
        "outputId": "96bdd5dd-0ba6-4d72-9855-6468b0fa4cba"
      },
      "outputs": [
        {
          "output_type": "execute_result",
          "data": {
            "text/plain": [
              "array(['Y', 'N', 'C', '1', 'S', 'R', 'A', '0'], dtype=object)"
            ]
          },
          "metadata": {},
          "execution_count": 21
        }
      ],
      "source": [
        "df['LowDoc'].unique()"
      ]
    },
    {
      "cell_type": "code",
      "execution_count": null,
      "metadata": {
        "id": "u3Hre176lVAR",
        "colab": {
          "base_uri": "https://localhost:8080/"
        },
        "outputId": "7aa73fb2-c27e-4e9b-8f1f-45e8897eb661"
      },
      "outputs": [
        {
          "output_type": "stream",
          "name": "stderr",
          "text": [
            "<ipython-input-22-6d6ae749cc04>:6: SettingWithCopyWarning: \n",
            "A value is trying to be set on a copy of a slice from a DataFrame.\n",
            "Try using .loc[row_indexer,col_indexer] = value instead\n",
            "\n",
            "See the caveats in the documentation: https://pandas.pydata.org/pandas-docs/stable/user_guide/indexing.html#returning-a-view-versus-a-copy\n",
            "  df['RevLineCr'] = np.where(df['RevLineCr'] == 'N', 0, 1)\n"
          ]
        }
      ],
      "source": [
        "# Remove records where RevLineCr != 'Y' or 'N' and LowDoc != 'Y' or 'N'\n",
        "df = df[(df['RevLineCr'] == 'Y') | (df['RevLineCr'] == 'N')]\n",
        "df = df[(df['LowDoc'] == 'Y') | (df['LowDoc'] == 'N')]\n",
        "\n",
        "# RevLineCr and LowDoc: 0 = No, 1 = Yes\n",
        "df['RevLineCr'] = np.where(df['RevLineCr'] == 'N', 0, 1)\n",
        "df['LowDoc'] = np.where(df['LowDoc'] == 'N', 0, 1)"
      ]
    },
    {
      "cell_type": "code",
      "execution_count": null,
      "metadata": {
        "colab": {
          "base_uri": "https://localhost:8080/"
        },
        "id": "PuLrrNbplVAS",
        "outputId": "216c8c20-10ed-4371-e522-5d788b794075"
      },
      "outputs": [
        {
          "output_type": "execute_result",
          "data": {
            "text/plain": [
              "0    358558\n",
              "1     98382\n",
              "Name: Default, dtype: int64"
            ]
          },
          "metadata": {},
          "execution_count": 23
        }
      ],
      "source": [
        "# MIS_Status\n",
        "# Make Default target field based on MIS_Status where P I F = 0 and CHGOFF = 1 so we can see what features are prevalant in a defaulted loan\n",
        "df['Default'] = np.where(df['MIS_Status'] == 'P I F', 0, 1)\n",
        "df['Default'].value_counts()"
      ]
    },
    {
      "cell_type": "markdown",
      "metadata": {
        "id": "BJmN9MnRlVAU"
      },
      "source": [
        "One metric that would be interesting to see is the number of days it took from the approval of the loan to the actual disbursement of the funds. The hypothesis is the longer it took to receive funds, the more difficult it would be to pay off the loan. In my experience as a Credit Analyst, there were a number of businesses that needed loan funding urgently to help the business stay afloat. I'm sure this would vary by industry however."
      ]
    },
    {
      "cell_type": "code",
      "execution_count": null,
      "metadata": {
        "id": "ePFBtC2alVAV"
      },
      "outputs": [],
      "source": [
        "# Create DaysToDisbursement column which calculates the number of days passed between DisbursementDate and ApprovalDate\n",
        "df['DaysToDisbursement'] = df['DisbursementDate'] - df['ApprovalDate']\n",
        "\n",
        "# Change DaysToDisbursement from a timedelta64 dtype to an int64 dtype\n",
        "# Converts series to str, removes all characters after the space before 'd' in days for each record, then changes the dtype to int\n",
        "df['DaysToDisbursement'] = df['DaysToDisbursement'].astype('str').apply(lambda x: x[:x.index('d') - 1]).astype('int64')"
      ]
    },
    {
      "cell_type": "code",
      "execution_count": null,
      "metadata": {
        "id": "mN4bsmyolVAV"
      },
      "outputs": [],
      "source": [
        "# Create DisbursementFY field for time selection criteria later\n",
        "df['DisbursementFY'] = df['DisbursementDate'].map(lambda x: x.year)"
      ]
    },
    {
      "cell_type": "markdown",
      "metadata": {
        "id": "hCaPmctolVAV"
      },
      "source": [
        "It would be more difficult to service a loan for a business in another state and that this could have a negative impact on a business's ability to repay the loan."
      ]
    },
    {
      "cell_type": "code",
      "execution_count": null,
      "metadata": {
        "id": "XINbE7wjlVAW"
      },
      "outputs": [],
      "source": [
        "# Create StateSame flag field which identifies where the business State is the same as the BankState\n",
        "df['StateSame'] = np.where(df['State'] == df['BankState'], 1, 0)"
      ]
    },
    {
      "cell_type": "code",
      "execution_count": null,
      "metadata": {
        "id": "oHfvhoL9lVAW"
      },
      "outputs": [],
      "source": [
        "# Create SBA_AppvPct field since the guaranteed amount is based on a percentage of the gross loan amount rather than dollar amount in most situations\n",
        "df['SBA_AppvPct'] = df['SBA_Appv'] / df['GrAppv']"
      ]
    },
    {
      "cell_type": "markdown",
      "metadata": {
        "id": "K4fOkoy2lVAX"
      },
      "source": [
        "Let's make sure the data types are still correct."
      ]
    },
    {
      "cell_type": "code",
      "execution_count": null,
      "metadata": {
        "colab": {
          "base_uri": "https://localhost:8080/"
        },
        "id": "tjc3AjiplVAY",
        "outputId": "6352b780-427b-451a-dc90-62c3a1f2663c"
      },
      "outputs": [
        {
          "output_type": "execute_result",
          "data": {
            "text/plain": [
              "LoanNr_ChkDgt                  int64\n",
              "Name                          object\n",
              "City                          object\n",
              "State                         object\n",
              "Zip                           object\n",
              "Bank                          object\n",
              "BankState                     object\n",
              "NAICS                          int64\n",
              "ApprovalDate          datetime64[ns]\n",
              "ApprovalFY                     int64\n",
              "Term                           int64\n",
              "NoEmp                          int64\n",
              "NewExist                       int64\n",
              "CreateJob                      int64\n",
              "RetainedJob                    int64\n",
              "FranchiseCode                  int64\n",
              "UrbanRural                    object\n",
              "RevLineCr                      int64\n",
              "LowDoc                         int64\n",
              "DisbursementDate      datetime64[ns]\n",
              "DisbursementGross            float64\n",
              "BalanceGross                 float64\n",
              "MIS_Status                    object\n",
              "ChgOffPrinGr                 float64\n",
              "GrAppv                       float64\n",
              "SBA_Appv                     float64\n",
              "Industry                      object\n",
              "IsFranchise                    int64\n",
              "NewBusiness                    int64\n",
              "Default                        int64\n",
              "DaysToDisbursement             int64\n",
              "DisbursementFY                 int64\n",
              "StateSame                      int64\n",
              "SBA_AppvPct                  float64\n",
              "dtype: object"
            ]
          },
          "metadata": {},
          "execution_count": 28
        }
      ],
      "source": [
        "# Format dtypes where necessary after feature engineering\n",
        "df = df.astype({'IsFranchise': 'int64', 'NewBusiness': 'int64'})\n",
        "df.dtypes"
      ]
    },
    {
      "cell_type": "markdown",
      "metadata": {
        "id": "QFRKKp7vMyiO"
      },
      "source": [
        "Now, lets drop the columns that unuseful for our analysis and modelling"
      ]
    },
    {
      "cell_type": "code",
      "execution_count": null,
      "metadata": {
        "id": "HOoWv8HuQ7EE"
      },
      "outputs": [],
      "source": [
        "df = df.drop(columns=['LoanNr_ChkDgt', 'Name', 'City', 'Zip', 'Bank', 'NAICS', 'ApprovalDate', 'NewExist', 'FranchiseCode', 'DisbursementDate', 'BalanceGross', 'ChgOffPrinGr', 'SBA_Appv', 'MIS_Status'])"
      ]
    },
    {
      "cell_type": "markdown",
      "metadata": {
        "id": "D8VdbJ4BRt_Y"
      },
      "source": [
        "# Statistical Analysis"
      ]
    },
    {
      "cell_type": "code",
      "execution_count": null,
      "metadata": {
        "colab": {
          "base_uri": "https://localhost:8080/",
          "height": 364
        },
        "id": "wnQPCpAXRwqV",
        "outputId": "1c9dcfde-00e0-493d-f45b-fe6a7c78d834"
      },
      "outputs": [
        {
          "output_type": "execute_result",
          "data": {
            "text/plain": [
              "          ApprovalFY           Term          NoEmp      CreateJob  \\\n",
              "count  456940.000000  456940.000000  456940.000000  456940.000000   \n",
              "mean     2003.020642      93.811706       9.895455       1.896610   \n",
              "std         5.657087      68.362394      56.807480      16.277406   \n",
              "min      1984.000000       0.000000       0.000000       0.000000   \n",
              "25%      2000.000000      59.000000       2.000000       0.000000   \n",
              "50%      2005.000000      84.000000       4.000000       0.000000   \n",
              "75%      2007.000000      90.000000       9.000000       1.000000   \n",
              "max      2014.000000     527.000000    9999.000000    5621.000000   \n",
              "\n",
              "         RetainedJob      RevLineCr         LowDoc  DisbursementGross  \\\n",
              "count  456940.000000  456940.000000  456940.000000       4.569400e+05   \n",
              "mean        4.782175       0.420053       0.054937       1.721617e+05   \n",
              "std        15.697409       0.493568       0.227858       2.751156e+05   \n",
              "min         0.000000       0.000000       0.000000       4.000000e+03   \n",
              "25%         0.000000       0.000000       0.000000       3.500000e+04   \n",
              "50%         1.000000       0.000000       0.000000       7.576350e+04   \n",
              "75%         5.000000       1.000000       0.000000       1.920000e+05   \n",
              "max      4441.000000       1.000000       1.000000       1.144632e+07   \n",
              "\n",
              "             GrAppv    IsFranchise    NewBusiness        Default  \\\n",
              "count  4.569400e+05  456940.000000  456940.000000  456940.000000   \n",
              "mean   1.542110e+05       0.031214       0.265061       0.215306   \n",
              "std    2.613271e+05       0.173896       0.441366       0.411035   \n",
              "min    1.000000e+03       0.000000       0.000000       0.000000   \n",
              "25%    2.500000e+04       0.000000       0.000000       0.000000   \n",
              "50%    5.000000e+04       0.000000       0.000000       0.000000   \n",
              "75%    1.570000e+05       0.000000       1.000000       0.000000   \n",
              "max    5.000000e+06       1.000000       1.000000       1.000000   \n",
              "\n",
              "       DaysToDisbursement  DisbursementFY      StateSame    SBA_AppvPct  \n",
              "count       456940.000000   456940.000000  456940.000000  456940.000000  \n",
              "mean           108.578463     2003.063249       0.456872       0.652474  \n",
              "std            190.739346        5.575671       0.498137       0.179334  \n",
              "min          -3614.000000     1984.000000       0.000000       0.050000  \n",
              "25%             26.000000     2000.000000       0.000000       0.500000  \n",
              "50%             49.000000     2005.000000       0.000000       0.500000  \n",
              "75%            108.000000     2007.000000       1.000000       0.819209  \n",
              "max           9132.000000     2028.000000       1.000000       1.000000  "
            ],
            "text/html": [
              "\n",
              "  <div id=\"df-9b27682f-bb03-464b-9aa1-17925da97448\">\n",
              "    <div class=\"colab-df-container\">\n",
              "      <div>\n",
              "<style scoped>\n",
              "    .dataframe tbody tr th:only-of-type {\n",
              "        vertical-align: middle;\n",
              "    }\n",
              "\n",
              "    .dataframe tbody tr th {\n",
              "        vertical-align: top;\n",
              "    }\n",
              "\n",
              "    .dataframe thead th {\n",
              "        text-align: right;\n",
              "    }\n",
              "</style>\n",
              "<table border=\"1\" class=\"dataframe\">\n",
              "  <thead>\n",
              "    <tr style=\"text-align: right;\">\n",
              "      <th></th>\n",
              "      <th>ApprovalFY</th>\n",
              "      <th>Term</th>\n",
              "      <th>NoEmp</th>\n",
              "      <th>CreateJob</th>\n",
              "      <th>RetainedJob</th>\n",
              "      <th>RevLineCr</th>\n",
              "      <th>LowDoc</th>\n",
              "      <th>DisbursementGross</th>\n",
              "      <th>GrAppv</th>\n",
              "      <th>IsFranchise</th>\n",
              "      <th>NewBusiness</th>\n",
              "      <th>Default</th>\n",
              "      <th>DaysToDisbursement</th>\n",
              "      <th>DisbursementFY</th>\n",
              "      <th>StateSame</th>\n",
              "      <th>SBA_AppvPct</th>\n",
              "    </tr>\n",
              "  </thead>\n",
              "  <tbody>\n",
              "    <tr>\n",
              "      <th>count</th>\n",
              "      <td>456940.000000</td>\n",
              "      <td>456940.000000</td>\n",
              "      <td>456940.000000</td>\n",
              "      <td>456940.000000</td>\n",
              "      <td>456940.000000</td>\n",
              "      <td>456940.000000</td>\n",
              "      <td>456940.000000</td>\n",
              "      <td>4.569400e+05</td>\n",
              "      <td>4.569400e+05</td>\n",
              "      <td>456940.000000</td>\n",
              "      <td>456940.000000</td>\n",
              "      <td>456940.000000</td>\n",
              "      <td>456940.000000</td>\n",
              "      <td>456940.000000</td>\n",
              "      <td>456940.000000</td>\n",
              "      <td>456940.000000</td>\n",
              "    </tr>\n",
              "    <tr>\n",
              "      <th>mean</th>\n",
              "      <td>2003.020642</td>\n",
              "      <td>93.811706</td>\n",
              "      <td>9.895455</td>\n",
              "      <td>1.896610</td>\n",
              "      <td>4.782175</td>\n",
              "      <td>0.420053</td>\n",
              "      <td>0.054937</td>\n",
              "      <td>1.721617e+05</td>\n",
              "      <td>1.542110e+05</td>\n",
              "      <td>0.031214</td>\n",
              "      <td>0.265061</td>\n",
              "      <td>0.215306</td>\n",
              "      <td>108.578463</td>\n",
              "      <td>2003.063249</td>\n",
              "      <td>0.456872</td>\n",
              "      <td>0.652474</td>\n",
              "    </tr>\n",
              "    <tr>\n",
              "      <th>std</th>\n",
              "      <td>5.657087</td>\n",
              "      <td>68.362394</td>\n",
              "      <td>56.807480</td>\n",
              "      <td>16.277406</td>\n",
              "      <td>15.697409</td>\n",
              "      <td>0.493568</td>\n",
              "      <td>0.227858</td>\n",
              "      <td>2.751156e+05</td>\n",
              "      <td>2.613271e+05</td>\n",
              "      <td>0.173896</td>\n",
              "      <td>0.441366</td>\n",
              "      <td>0.411035</td>\n",
              "      <td>190.739346</td>\n",
              "      <td>5.575671</td>\n",
              "      <td>0.498137</td>\n",
              "      <td>0.179334</td>\n",
              "    </tr>\n",
              "    <tr>\n",
              "      <th>min</th>\n",
              "      <td>1984.000000</td>\n",
              "      <td>0.000000</td>\n",
              "      <td>0.000000</td>\n",
              "      <td>0.000000</td>\n",
              "      <td>0.000000</td>\n",
              "      <td>0.000000</td>\n",
              "      <td>0.000000</td>\n",
              "      <td>4.000000e+03</td>\n",
              "      <td>1.000000e+03</td>\n",
              "      <td>0.000000</td>\n",
              "      <td>0.000000</td>\n",
              "      <td>0.000000</td>\n",
              "      <td>-3614.000000</td>\n",
              "      <td>1984.000000</td>\n",
              "      <td>0.000000</td>\n",
              "      <td>0.050000</td>\n",
              "    </tr>\n",
              "    <tr>\n",
              "      <th>25%</th>\n",
              "      <td>2000.000000</td>\n",
              "      <td>59.000000</td>\n",
              "      <td>2.000000</td>\n",
              "      <td>0.000000</td>\n",
              "      <td>0.000000</td>\n",
              "      <td>0.000000</td>\n",
              "      <td>0.000000</td>\n",
              "      <td>3.500000e+04</td>\n",
              "      <td>2.500000e+04</td>\n",
              "      <td>0.000000</td>\n",
              "      <td>0.000000</td>\n",
              "      <td>0.000000</td>\n",
              "      <td>26.000000</td>\n",
              "      <td>2000.000000</td>\n",
              "      <td>0.000000</td>\n",
              "      <td>0.500000</td>\n",
              "    </tr>\n",
              "    <tr>\n",
              "      <th>50%</th>\n",
              "      <td>2005.000000</td>\n",
              "      <td>84.000000</td>\n",
              "      <td>4.000000</td>\n",
              "      <td>0.000000</td>\n",
              "      <td>1.000000</td>\n",
              "      <td>0.000000</td>\n",
              "      <td>0.000000</td>\n",
              "      <td>7.576350e+04</td>\n",
              "      <td>5.000000e+04</td>\n",
              "      <td>0.000000</td>\n",
              "      <td>0.000000</td>\n",
              "      <td>0.000000</td>\n",
              "      <td>49.000000</td>\n",
              "      <td>2005.000000</td>\n",
              "      <td>0.000000</td>\n",
              "      <td>0.500000</td>\n",
              "    </tr>\n",
              "    <tr>\n",
              "      <th>75%</th>\n",
              "      <td>2007.000000</td>\n",
              "      <td>90.000000</td>\n",
              "      <td>9.000000</td>\n",
              "      <td>1.000000</td>\n",
              "      <td>5.000000</td>\n",
              "      <td>1.000000</td>\n",
              "      <td>0.000000</td>\n",
              "      <td>1.920000e+05</td>\n",
              "      <td>1.570000e+05</td>\n",
              "      <td>0.000000</td>\n",
              "      <td>1.000000</td>\n",
              "      <td>0.000000</td>\n",
              "      <td>108.000000</td>\n",
              "      <td>2007.000000</td>\n",
              "      <td>1.000000</td>\n",
              "      <td>0.819209</td>\n",
              "    </tr>\n",
              "    <tr>\n",
              "      <th>max</th>\n",
              "      <td>2014.000000</td>\n",
              "      <td>527.000000</td>\n",
              "      <td>9999.000000</td>\n",
              "      <td>5621.000000</td>\n",
              "      <td>4441.000000</td>\n",
              "      <td>1.000000</td>\n",
              "      <td>1.000000</td>\n",
              "      <td>1.144632e+07</td>\n",
              "      <td>5.000000e+06</td>\n",
              "      <td>1.000000</td>\n",
              "      <td>1.000000</td>\n",
              "      <td>1.000000</td>\n",
              "      <td>9132.000000</td>\n",
              "      <td>2028.000000</td>\n",
              "      <td>1.000000</td>\n",
              "      <td>1.000000</td>\n",
              "    </tr>\n",
              "  </tbody>\n",
              "</table>\n",
              "</div>\n",
              "      <button class=\"colab-df-convert\" onclick=\"convertToInteractive('df-9b27682f-bb03-464b-9aa1-17925da97448')\"\n",
              "              title=\"Convert this dataframe to an interactive table.\"\n",
              "              style=\"display:none;\">\n",
              "        \n",
              "  <svg xmlns=\"http://www.w3.org/2000/svg\" height=\"24px\"viewBox=\"0 0 24 24\"\n",
              "       width=\"24px\">\n",
              "    <path d=\"M0 0h24v24H0V0z\" fill=\"none\"/>\n",
              "    <path d=\"M18.56 5.44l.94 2.06.94-2.06 2.06-.94-2.06-.94-.94-2.06-.94 2.06-2.06.94zm-11 1L8.5 8.5l.94-2.06 2.06-.94-2.06-.94L8.5 2.5l-.94 2.06-2.06.94zm10 10l.94 2.06.94-2.06 2.06-.94-2.06-.94-.94-2.06-.94 2.06-2.06.94z\"/><path d=\"M17.41 7.96l-1.37-1.37c-.4-.4-.92-.59-1.43-.59-.52 0-1.04.2-1.43.59L10.3 9.45l-7.72 7.72c-.78.78-.78 2.05 0 2.83L4 21.41c.39.39.9.59 1.41.59.51 0 1.02-.2 1.41-.59l7.78-7.78 2.81-2.81c.8-.78.8-2.07 0-2.86zM5.41 20L4 18.59l7.72-7.72 1.47 1.35L5.41 20z\"/>\n",
              "  </svg>\n",
              "      </button>\n",
              "      \n",
              "  <style>\n",
              "    .colab-df-container {\n",
              "      display:flex;\n",
              "      flex-wrap:wrap;\n",
              "      gap: 12px;\n",
              "    }\n",
              "\n",
              "    .colab-df-convert {\n",
              "      background-color: #E8F0FE;\n",
              "      border: none;\n",
              "      border-radius: 50%;\n",
              "      cursor: pointer;\n",
              "      display: none;\n",
              "      fill: #1967D2;\n",
              "      height: 32px;\n",
              "      padding: 0 0 0 0;\n",
              "      width: 32px;\n",
              "    }\n",
              "\n",
              "    .colab-df-convert:hover {\n",
              "      background-color: #E2EBFA;\n",
              "      box-shadow: 0px 1px 2px rgba(60, 64, 67, 0.3), 0px 1px 3px 1px rgba(60, 64, 67, 0.15);\n",
              "      fill: #174EA6;\n",
              "    }\n",
              "\n",
              "    [theme=dark] .colab-df-convert {\n",
              "      background-color: #3B4455;\n",
              "      fill: #D2E3FC;\n",
              "    }\n",
              "\n",
              "    [theme=dark] .colab-df-convert:hover {\n",
              "      background-color: #434B5C;\n",
              "      box-shadow: 0px 1px 3px 1px rgba(0, 0, 0, 0.15);\n",
              "      filter: drop-shadow(0px 1px 2px rgba(0, 0, 0, 0.3));\n",
              "      fill: #FFFFFF;\n",
              "    }\n",
              "  </style>\n",
              "\n",
              "      <script>\n",
              "        const buttonEl =\n",
              "          document.querySelector('#df-9b27682f-bb03-464b-9aa1-17925da97448 button.colab-df-convert');\n",
              "        buttonEl.style.display =\n",
              "          google.colab.kernel.accessAllowed ? 'block' : 'none';\n",
              "\n",
              "        async function convertToInteractive(key) {\n",
              "          const element = document.querySelector('#df-9b27682f-bb03-464b-9aa1-17925da97448');\n",
              "          const dataTable =\n",
              "            await google.colab.kernel.invokeFunction('convertToInteractive',\n",
              "                                                     [key], {});\n",
              "          if (!dataTable) return;\n",
              "\n",
              "          const docLinkHtml = 'Like what you see? Visit the ' +\n",
              "            '<a target=\"_blank\" href=https://colab.research.google.com/notebooks/data_table.ipynb>data table notebook</a>'\n",
              "            + ' to learn more about interactive tables.';\n",
              "          element.innerHTML = '';\n",
              "          dataTable['output_type'] = 'display_data';\n",
              "          await google.colab.output.renderOutput(dataTable, element);\n",
              "          const docLink = document.createElement('div');\n",
              "          docLink.innerHTML = docLinkHtml;\n",
              "          element.appendChild(docLink);\n",
              "        }\n",
              "      </script>\n",
              "    </div>\n",
              "  </div>\n",
              "  "
            ]
          },
          "metadata": {},
          "execution_count": 30
        }
      ],
      "source": [
        "df.describe()"
      ]
    },
    {
      "cell_type": "markdown",
      "metadata": {
        "id": "cad8-hnMlVAc"
      },
      "source": [
        "This shows some interesting information for the analysis, including:\n",
        "* The average loan term is ~94 months with a standard deviation of ~69 months, suggesting the loan terms are pretty spread out; Max loan term of 527 months could suggest some outliers in the data\n",
        "* The average number of employees is about 9.8 with 75% of of businesses having 9 or less employees, suggesting NoEmp is very left skewed; Similar situations for created and retained jobs\n",
        "* The mean for flag fields essentially shows a percentage, so roughly 42% of loans in the sample are revolving lines of credit and about 6% of loans were a part of the Low Doc program\n",
        "* Average gross loan disbursement was ~166,000 with 75% of loans being less than 188,000, suggesting left skewness again\n",
        "* About 77.8% of loans in the sample were paid in full\n",
        "* Only 3% of businesses were franchised; About 26% of loan applicants were considered new businesses.\n",
        "* The average days to loan disbursement was 109; The min was -3,614, suggesting at least one error in the data (since that's ~301 years)\n",
        "* Approximately 45.6% of loans were serviced by banks in the same state as the applying business\n",
        "* The average percentage of SBA loan guaranteed amount was 65.2%\n",
        "\n"
      ]
    },
    {
      "cell_type": "markdown",
      "metadata": {
        "id": "fZS7eh8hlVAd"
      },
      "source": [
        "Lets to remove data with a negative DaysToDisbursement under the assumption that loan funds would not be disbursed until they were approved."
      ]
    },
    {
      "cell_type": "code",
      "execution_count": null,
      "metadata": {
        "colab": {
          "base_uri": "https://localhost:8080/"
        },
        "id": "kfOrF8qnlVAd",
        "outputId": "47bfd5eb-05ea-493e-eb27-039e15307be7"
      },
      "outputs": [
        {
          "output_type": "execute_result",
          "data": {
            "text/plain": [
              "(456523, 20)"
            ]
          },
          "metadata": {},
          "execution_count": 31
        }
      ],
      "source": [
        "# Remove records with loans disbursed prior to being approved\n",
        "df = df[df['DaysToDisbursement'] >= 0]\n",
        "\n",
        "# Check how many records are left\n",
        "df.shape"
      ]
    },
    {
      "cell_type": "markdown",
      "metadata": {
        "id": "OmzmW0Nft5eY"
      },
      "source": [
        "# Univariate Analysis"
      ]
    },
    {
      "cell_type": "code",
      "source": [
        "df.head()"
      ],
      "metadata": {
        "colab": {
          "base_uri": "https://localhost:8080/",
          "height": 270
        },
        "id": "Cy1-WyV44e6t",
        "outputId": "2edef6a5-e4ee-449b-b03c-3328d826a91a"
      },
      "execution_count": null,
      "outputs": [
        {
          "output_type": "execute_result",
          "data": {
            "text/plain": [
              "  State BankState  ApprovalFY  Term  NoEmp  CreateJob  RetainedJob UrbanRural  \\\n",
              "0    IN        OH        1997    84      4          0            0          0   \n",
              "1    IN        IN        1997    60      2          0            0          0   \n",
              "2    IN        IN        1997   180      7          0            0          0   \n",
              "5    CT        DE        1997   120     19          0            0          0   \n",
              "7    FL        AL        1997    84      1          0            0          0   \n",
              "\n",
              "   RevLineCr  LowDoc  DisbursementGross    GrAppv                  Industry  \\\n",
              "0          0       1            60000.0   60000.0              Retail_trade   \n",
              "1          0       1            40000.0   40000.0           Accom/Food_serv   \n",
              "2          0       0           287000.0  287000.0  Healthcare/Social_assist   \n",
              "5          0       0           517000.0  517000.0             Manufacturing   \n",
              "7          0       1            45000.0   45000.0              Other_no_pub   \n",
              "\n",
              "   IsFranchise  NewBusiness  Default  DaysToDisbursement  DisbursementFY  \\\n",
              "0            0            1        0                 730            1999   \n",
              "1            0            1        0                  92            1997   \n",
              "2            0            0        0                 306            1997   \n",
              "5            0            0        0                 122            1997   \n",
              "7            0            1        0                 487            1998   \n",
              "\n",
              "   StateSame  SBA_AppvPct  \n",
              "0          0         0.80  \n",
              "1          1         0.80  \n",
              "2          1         0.75  \n",
              "5          0         0.75  \n",
              "7          0         0.80  "
            ],
            "text/html": [
              "\n",
              "  <div id=\"df-6ada82b2-00d4-4f3c-ae35-235f9ca17752\">\n",
              "    <div class=\"colab-df-container\">\n",
              "      <div>\n",
              "<style scoped>\n",
              "    .dataframe tbody tr th:only-of-type {\n",
              "        vertical-align: middle;\n",
              "    }\n",
              "\n",
              "    .dataframe tbody tr th {\n",
              "        vertical-align: top;\n",
              "    }\n",
              "\n",
              "    .dataframe thead th {\n",
              "        text-align: right;\n",
              "    }\n",
              "</style>\n",
              "<table border=\"1\" class=\"dataframe\">\n",
              "  <thead>\n",
              "    <tr style=\"text-align: right;\">\n",
              "      <th></th>\n",
              "      <th>State</th>\n",
              "      <th>BankState</th>\n",
              "      <th>ApprovalFY</th>\n",
              "      <th>Term</th>\n",
              "      <th>NoEmp</th>\n",
              "      <th>CreateJob</th>\n",
              "      <th>RetainedJob</th>\n",
              "      <th>UrbanRural</th>\n",
              "      <th>RevLineCr</th>\n",
              "      <th>LowDoc</th>\n",
              "      <th>DisbursementGross</th>\n",
              "      <th>GrAppv</th>\n",
              "      <th>Industry</th>\n",
              "      <th>IsFranchise</th>\n",
              "      <th>NewBusiness</th>\n",
              "      <th>Default</th>\n",
              "      <th>DaysToDisbursement</th>\n",
              "      <th>DisbursementFY</th>\n",
              "      <th>StateSame</th>\n",
              "      <th>SBA_AppvPct</th>\n",
              "    </tr>\n",
              "  </thead>\n",
              "  <tbody>\n",
              "    <tr>\n",
              "      <th>0</th>\n",
              "      <td>IN</td>\n",
              "      <td>OH</td>\n",
              "      <td>1997</td>\n",
              "      <td>84</td>\n",
              "      <td>4</td>\n",
              "      <td>0</td>\n",
              "      <td>0</td>\n",
              "      <td>0</td>\n",
              "      <td>0</td>\n",
              "      <td>1</td>\n",
              "      <td>60000.0</td>\n",
              "      <td>60000.0</td>\n",
              "      <td>Retail_trade</td>\n",
              "      <td>0</td>\n",
              "      <td>1</td>\n",
              "      <td>0</td>\n",
              "      <td>730</td>\n",
              "      <td>1999</td>\n",
              "      <td>0</td>\n",
              "      <td>0.80</td>\n",
              "    </tr>\n",
              "    <tr>\n",
              "      <th>1</th>\n",
              "      <td>IN</td>\n",
              "      <td>IN</td>\n",
              "      <td>1997</td>\n",
              "      <td>60</td>\n",
              "      <td>2</td>\n",
              "      <td>0</td>\n",
              "      <td>0</td>\n",
              "      <td>0</td>\n",
              "      <td>0</td>\n",
              "      <td>1</td>\n",
              "      <td>40000.0</td>\n",
              "      <td>40000.0</td>\n",
              "      <td>Accom/Food_serv</td>\n",
              "      <td>0</td>\n",
              "      <td>1</td>\n",
              "      <td>0</td>\n",
              "      <td>92</td>\n",
              "      <td>1997</td>\n",
              "      <td>1</td>\n",
              "      <td>0.80</td>\n",
              "    </tr>\n",
              "    <tr>\n",
              "      <th>2</th>\n",
              "      <td>IN</td>\n",
              "      <td>IN</td>\n",
              "      <td>1997</td>\n",
              "      <td>180</td>\n",
              "      <td>7</td>\n",
              "      <td>0</td>\n",
              "      <td>0</td>\n",
              "      <td>0</td>\n",
              "      <td>0</td>\n",
              "      <td>0</td>\n",
              "      <td>287000.0</td>\n",
              "      <td>287000.0</td>\n",
              "      <td>Healthcare/Social_assist</td>\n",
              "      <td>0</td>\n",
              "      <td>0</td>\n",
              "      <td>0</td>\n",
              "      <td>306</td>\n",
              "      <td>1997</td>\n",
              "      <td>1</td>\n",
              "      <td>0.75</td>\n",
              "    </tr>\n",
              "    <tr>\n",
              "      <th>5</th>\n",
              "      <td>CT</td>\n",
              "      <td>DE</td>\n",
              "      <td>1997</td>\n",
              "      <td>120</td>\n",
              "      <td>19</td>\n",
              "      <td>0</td>\n",
              "      <td>0</td>\n",
              "      <td>0</td>\n",
              "      <td>0</td>\n",
              "      <td>0</td>\n",
              "      <td>517000.0</td>\n",
              "      <td>517000.0</td>\n",
              "      <td>Manufacturing</td>\n",
              "      <td>0</td>\n",
              "      <td>0</td>\n",
              "      <td>0</td>\n",
              "      <td>122</td>\n",
              "      <td>1997</td>\n",
              "      <td>0</td>\n",
              "      <td>0.75</td>\n",
              "    </tr>\n",
              "    <tr>\n",
              "      <th>7</th>\n",
              "      <td>FL</td>\n",
              "      <td>AL</td>\n",
              "      <td>1997</td>\n",
              "      <td>84</td>\n",
              "      <td>1</td>\n",
              "      <td>0</td>\n",
              "      <td>0</td>\n",
              "      <td>0</td>\n",
              "      <td>0</td>\n",
              "      <td>1</td>\n",
              "      <td>45000.0</td>\n",
              "      <td>45000.0</td>\n",
              "      <td>Other_no_pub</td>\n",
              "      <td>0</td>\n",
              "      <td>1</td>\n",
              "      <td>0</td>\n",
              "      <td>487</td>\n",
              "      <td>1998</td>\n",
              "      <td>0</td>\n",
              "      <td>0.80</td>\n",
              "    </tr>\n",
              "  </tbody>\n",
              "</table>\n",
              "</div>\n",
              "      <button class=\"colab-df-convert\" onclick=\"convertToInteractive('df-6ada82b2-00d4-4f3c-ae35-235f9ca17752')\"\n",
              "              title=\"Convert this dataframe to an interactive table.\"\n",
              "              style=\"display:none;\">\n",
              "        \n",
              "  <svg xmlns=\"http://www.w3.org/2000/svg\" height=\"24px\"viewBox=\"0 0 24 24\"\n",
              "       width=\"24px\">\n",
              "    <path d=\"M0 0h24v24H0V0z\" fill=\"none\"/>\n",
              "    <path d=\"M18.56 5.44l.94 2.06.94-2.06 2.06-.94-2.06-.94-.94-2.06-.94 2.06-2.06.94zm-11 1L8.5 8.5l.94-2.06 2.06-.94-2.06-.94L8.5 2.5l-.94 2.06-2.06.94zm10 10l.94 2.06.94-2.06 2.06-.94-2.06-.94-.94-2.06-.94 2.06-2.06.94z\"/><path d=\"M17.41 7.96l-1.37-1.37c-.4-.4-.92-.59-1.43-.59-.52 0-1.04.2-1.43.59L10.3 9.45l-7.72 7.72c-.78.78-.78 2.05 0 2.83L4 21.41c.39.39.9.59 1.41.59.51 0 1.02-.2 1.41-.59l7.78-7.78 2.81-2.81c.8-.78.8-2.07 0-2.86zM5.41 20L4 18.59l7.72-7.72 1.47 1.35L5.41 20z\"/>\n",
              "  </svg>\n",
              "      </button>\n",
              "      \n",
              "  <style>\n",
              "    .colab-df-container {\n",
              "      display:flex;\n",
              "      flex-wrap:wrap;\n",
              "      gap: 12px;\n",
              "    }\n",
              "\n",
              "    .colab-df-convert {\n",
              "      background-color: #E8F0FE;\n",
              "      border: none;\n",
              "      border-radius: 50%;\n",
              "      cursor: pointer;\n",
              "      display: none;\n",
              "      fill: #1967D2;\n",
              "      height: 32px;\n",
              "      padding: 0 0 0 0;\n",
              "      width: 32px;\n",
              "    }\n",
              "\n",
              "    .colab-df-convert:hover {\n",
              "      background-color: #E2EBFA;\n",
              "      box-shadow: 0px 1px 2px rgba(60, 64, 67, 0.3), 0px 1px 3px 1px rgba(60, 64, 67, 0.15);\n",
              "      fill: #174EA6;\n",
              "    }\n",
              "\n",
              "    [theme=dark] .colab-df-convert {\n",
              "      background-color: #3B4455;\n",
              "      fill: #D2E3FC;\n",
              "    }\n",
              "\n",
              "    [theme=dark] .colab-df-convert:hover {\n",
              "      background-color: #434B5C;\n",
              "      box-shadow: 0px 1px 3px 1px rgba(0, 0, 0, 0.15);\n",
              "      filter: drop-shadow(0px 1px 2px rgba(0, 0, 0, 0.3));\n",
              "      fill: #FFFFFF;\n",
              "    }\n",
              "  </style>\n",
              "\n",
              "      <script>\n",
              "        const buttonEl =\n",
              "          document.querySelector('#df-6ada82b2-00d4-4f3c-ae35-235f9ca17752 button.colab-df-convert');\n",
              "        buttonEl.style.display =\n",
              "          google.colab.kernel.accessAllowed ? 'block' : 'none';\n",
              "\n",
              "        async function convertToInteractive(key) {\n",
              "          const element = document.querySelector('#df-6ada82b2-00d4-4f3c-ae35-235f9ca17752');\n",
              "          const dataTable =\n",
              "            await google.colab.kernel.invokeFunction('convertToInteractive',\n",
              "                                                     [key], {});\n",
              "          if (!dataTable) return;\n",
              "\n",
              "          const docLinkHtml = 'Like what you see? Visit the ' +\n",
              "            '<a target=\"_blank\" href=https://colab.research.google.com/notebooks/data_table.ipynb>data table notebook</a>'\n",
              "            + ' to learn more about interactive tables.';\n",
              "          element.innerHTML = '';\n",
              "          dataTable['output_type'] = 'display_data';\n",
              "          await google.colab.output.renderOutput(dataTable, element);\n",
              "          const docLink = document.createElement('div');\n",
              "          docLink.innerHTML = docLinkHtml;\n",
              "          element.appendChild(docLink);\n",
              "        }\n",
              "      </script>\n",
              "    </div>\n",
              "  </div>\n",
              "  "
            ]
          },
          "metadata": {},
          "execution_count": 32
        }
      ]
    },
    {
      "cell_type": "markdown",
      "source": [
        "Lets check the outlier for numeric columns (neither boolean type or object)."
      ],
      "metadata": {
        "id": "c5_jtq_04Dl_"
      }
    },
    {
      "cell_type": "code",
      "source": [
        "df_outlier = df[['ApprovalFY', 'Term', 'NoEmp', 'CreateJob', 'RetainedJob', 'DisbursementGross', 'GrAppv', 'DaysToDisbursement', 'DisbursementFY']]"
      ],
      "metadata": {
        "id": "3Zp4yGG44DMF"
      },
      "execution_count": null,
      "outputs": []
    },
    {
      "cell_type": "code",
      "execution_count": null,
      "metadata": {
        "colab": {
          "base_uri": "https://localhost:8080/",
          "height": 664
        },
        "id": "yUNjR2VFt7wl",
        "outputId": "ace6bf68-a3bc-4da6-a425-f12f89243269"
      },
      "outputs": [
        {
          "output_type": "display_data",
          "data": {
            "text/plain": [
              "<Figure size 1440x720 with 9 Axes>"
            ],
            "image/png": "[encoded data removed]"
          },
          "metadata": {
            "needs_background": "light"
          }
        }
      ],
      "source": [
        "red_circle = dict(markerfacecolor='red', marker='o', markeredgecolor='white')\n",
        "\n",
        "fig, axs = plt.subplots(1, len(df_outlier.columns), figsize=(20,10))\n",
        "\n",
        "for i, ax in enumerate(axs.flat):\n",
        "    ax.boxplot(df_outlier.iloc[:,i], flierprops=red_circle)\n",
        "    ax.set_title(df_outlier.columns[i], fontsize=10, fontweight='bold')\n",
        "    ax.tick_params(axis='y', labelsize=14)\n",
        "    \n",
        "plt.tight_layout()"
      ]
    },
    {
      "cell_type": "markdown",
      "source": [
        "There are so many outliers in all numeric features except 'ApprovalFY' dan 'DisbursementFY'. "
      ],
      "metadata": {
        "id": "0BVaPokt6u_D"
      }
    },
    {
      "cell_type": "markdown",
      "metadata": {
        "id": "pr9Li1TgKUcS"
      },
      "source": [
        "# Multivariate Analysis"
      ]
    },
    {
      "cell_type": "code",
      "source": [
        "# Correlation Matrix\n",
        "cor_fig, cor_ax = plt.subplots(figsize=(15, 10))\n",
        "corr_matrix = df.corr()\n",
        "cor_ax = sns.heatmap(corr_matrix, annot=True)\n",
        "plt.xticks(rotation=30, horizontalalignment='right', fontsize=8)\n",
        "plt.yticks(fontsize=8)\n",
        "\n",
        "plt.show()"
      ],
      "metadata": {
        "colab": {
          "base_uri": "https://localhost:8080/",
          "height": 636
        },
        "id": "eP-IRndhKXUU",
        "outputId": "48a389a2-d1b3-4635-e8d2-90802ce35e86"
      },
      "execution_count": null,
      "outputs": [
        {
          "output_type": "display_data",
          "data": {
            "text/plain": [
              "<Figure size 1080x720 with 2 Axes>"
            ],
            "image/png": "[encoded data removed]"
          },
          "metadata": {
            "needs_background": "light"
          }
        }
      ]
    },
    {
      "cell_type": "markdown",
      "source": [
        "There are columns that have strong correlation such as 'GrAppv' - 'DisbursementGross' and 'ApprovalFY' - 'DisbursementFY'. Thats mean that the year of approval and disbursement is mostly same, as well as the gross of approval and disbursement."
      ],
      "metadata": {
        "id": "wwqPMjuZKyLM"
      }
    },
    {
      "cell_type": "markdown",
      "metadata": {
        "id": "L2rQQpNCL1Kj"
      },
      "source": [
        "# Exploratory Data Analysis\n",
        "\n",
        "\n"
      ]
    },
    {
      "cell_type": "code",
      "source": [
        "# Total/Average disbursed loan amount by industry\n",
        "# Create a groupby object on Industry for use in visualization\n",
        "industry_group = df.groupby(['Industry'])\n",
        "\n",
        "# Data frames based on groupby by Industry looking at aggregate and average values\n",
        "df_industrySum = industry_group.sum().sort_values('DisbursementGross', ascending=False)\n",
        "df_industryAve = industry_group.mean().sort_values('DisbursementGross', ascending=False)\n",
        "\n",
        "# Establish figure for placing bar charts side-by-side\n",
        "fig = plt.figure(figsize=(25, 5))\n",
        "\n",
        "# Add subplots to figure to build 1x2 grid and specify position of each subplot\n",
        "ax1 = fig.add_subplot(1, 2, 1)\n",
        "ax2 = fig.add_subplot(1, 2, 2)\n",
        "\n",
        "# Bar chart 1 = Gross SBA Loan Disbursement by Industry\n",
        "ax1.bar(df_industrySum.index, df_industrySum['DisbursementGross'] / 1000000000)\n",
        "ax1.set_xticklabels(df_industrySum.index, rotation=30, horizontalalignment='right', fontsize=10)\n",
        "\n",
        "ax1.set_title('Gross SBA Loan Disbursement by Industry from 1984-2010', fontsize=15)\n",
        "ax1.set_xlabel('Industry')\n",
        "ax1.set_ylabel('Gross Loan Disbursement (Billions)')\n",
        "\n",
        "# Bar chart 2 = Average SBA Loan Disbursement by Industry\n",
        "ax2.bar(df_industryAve.index, df_industryAve['DisbursementGross'])\n",
        "ax2.set_xticklabels(df_industryAve.index, rotation=30, horizontalalignment='right', fontsize=10)\n",
        "\n",
        "ax2.set_title('Average SBA Loan Disbursement by Industry from 1984-2010', fontsize=15)\n",
        "ax2.set_xlabel('Industry')\n",
        "ax2.set_ylabel('Average Loan Disbursement')\n",
        "\n",
        "# Average days to disbursement by industry\n",
        "fig2, ax = plt.subplots(figsize=(15, 5))\n",
        "\n",
        "ax.bar(df_industryAve.index, df_industryAve['DaysToDisbursement'].sort_values(ascending=False))\n",
        "ax.set_xticklabels(df_industryAve['DaysToDisbursement'].sort_values(ascending=False).index, rotation=35,\n",
        "                   horizontalalignment='right', fontsize=10)\n",
        "\n",
        "ax.set_title('Average Days to SBA Loan Disbursement by Industry from 1984-2010', fontsize=15)\n",
        "ax.set_xlabel('Industry')\n",
        "ax.set_ylabel('Average Days to Disbursement')\n",
        "\n",
        "plt.show()"
      ],
      "metadata": {
        "colab": {
          "base_uri": "https://localhost:8080/",
          "height": 915
        },
        "id": "TLt8fzjEL6Bn",
        "outputId": "879320c1-3615-4461-932b-da1367e110a8"
      },
      "execution_count": null,
      "outputs": [
        {
          "output_type": "stream",
          "name": "stderr",
          "text": [
            "<ipython-input-36-95d31634d7ed>:18: UserWarning: FixedFormatter should only be used together with FixedLocator\n",
            "  ax1.set_xticklabels(df_industrySum.index, rotation=30, horizontalalignment='right', fontsize=10)\n",
            "<ipython-input-36-95d31634d7ed>:26: UserWarning: FixedFormatter should only be used together with FixedLocator\n",
            "  ax2.set_xticklabels(df_industryAve.index, rotation=30, horizontalalignment='right', fontsize=10)\n",
            "<ipython-input-36-95d31634d7ed>:36: UserWarning: FixedFormatter should only be used together with FixedLocator\n",
            "  ax.set_xticklabels(df_industryAve['DaysToDisbursement'].sort_values(ascending=False).index, rotation=35,\n"
          ]
        },
        {
          "output_type": "display_data",
          "data": {
            "text/plain": [
              "<Figure size 1800x360 with 2 Axes>"
            ],
            "image/png": "[encoded data removed]"
          },
          "metadata": {
            "needs_background": "light"
          }
        },
        {
          "output_type": "display_data",
          "data": {
            "text/plain": [
              "<Figure size 1080x360 with 1 Axes>"
            ],
            "image/png": "[encoded data removed]"
          },
          "metadata": {
            "needs_background": "light"
          }
        }
      ]
    },
    {
      "cell_type": "markdown",
      "source": [
        "The graphs tell us that:\n",
        "\n",
        "\n",
        "1.   Retail trade and Manufacturing industries had significantly more loan funds. \n",
        "distributed to them during the sample period compared to other industries\n",
        "2.   Although the Agriculture, forestry, fishing and hunting, Mining, quarrying, and oil and gas extraction, and Management of companies and enterprises industries had a small amount of total loan funds distributed to them during this time relative to most other industries, they had the highest average loan amount compared to other industries; This suggests they had a small number of large loans.\n",
        "3. Interestingly, some of the industries with the highest average loan amount also had the highest number of days to disbursement of funds, including the Agriculture, forestry, fishing and hunting, and Management of companies and enterprises industries.\n",
        "\n",
        "\n",
        "\n",
        "\n"
      ],
      "metadata": {
        "id": "VIvVDjNnMGSd"
      }
    },
    {
      "cell_type": "code",
      "source": [
        "# Paid in full and defaulted loans\n",
        "fig3 = plt.figure(figsize=(15, 10))\n",
        "\n",
        "ax1a = plt.subplot(2, 1, 1)\n",
        "ax2a = plt.subplot(2, 1, 2)\n",
        "\n",
        "# Function for creating stacked bar charts grouped by desired column\n",
        "# df = original data frame, col = x-axis grouping, stack_col = column to show stacked values\n",
        "# Essentially acts as a stacked histogram when stack_col is a flag variable\n",
        "def stacked_setup(df, col, axes, stack_col='Default'):\n",
        "    data = df.groupby([col, stack_col])[col].count().unstack(stack_col)\n",
        "    data.fillna(0)\n",
        "\n",
        "    axes.bar(data.index, data[1], label='Default')\n",
        "    axes.bar(data.index, data[0], bottom=data[1], label='Paid in full')\n",
        "\n",
        "\n",
        "# Number of Paid in full and defaulted loans by industry\n",
        "stacked_setup(df=df, col='Industry', axes=ax1a)\n",
        "ax1a.set_xticklabels(df.groupby(['Industry', 'Default'])['Industry'].count().unstack('Default').index,\n",
        "                     rotation=35, horizontalalignment='right', fontsize=10)\n",
        "\n",
        "ax1a.set_title('Number of PIF/Defaulted Loans by Industry from 1984-2010', fontsize=15)\n",
        "ax1a.set_xlabel('Industry')\n",
        "ax1a.set_ylabel('Number of PIF/Defaulted Loans')\n",
        "ax1a.legend()\n",
        "\n",
        "# Number of Paid in full and defaulted loans by State\n",
        "stacked_setup(df=df, col='State', axes=ax2a)\n",
        "\n",
        "ax2a.set_title('Number of PIF/Defaulted Loans by State from 1984-2010', fontsize=15)\n",
        "ax2a.set_xlabel('State')\n",
        "ax2a.set_ylabel('Number of PIF/Defaulted Loans')\n",
        "ax2a.legend()\n",
        "\n",
        "plt.tight_layout()\n",
        "plt.show()"
      ],
      "metadata": {
        "colab": {
          "base_uri": "https://localhost:8080/",
          "height": 766
        },
        "id": "1E3-ZZgKMw2u",
        "outputId": "6c63f556-6b5c-4294-c085-fcdf57e34bea"
      },
      "execution_count": null,
      "outputs": [
        {
          "output_type": "stream",
          "name": "stderr",
          "text": [
            "<ipython-input-37-2a70eaf1f6b1>:20: UserWarning: FixedFormatter should only be used together with FixedLocator\n",
            "  ax1a.set_xticklabels(df.groupby(['Industry', 'Default'])['Industry'].count().unstack('Default').index,\n"
          ]
        },
        {
          "output_type": "display_data",
          "data": {
            "text/plain": [
              "<Figure size 1080x720 with 2 Axes>"
            ],
            "image/png": "[encoded data removed]"
          },
          "metadata": {
            "needs_background": "light"
          }
        }
      ]
    },
    {
      "cell_type": "code",
      "source": [
        "# Check Default percentage by Industry\n",
        "def_ind = df.groupby(['Industry', 'Default'])['Industry'].count().unstack('Default')\n",
        "def_ind['Def_Percent'] = def_ind[1]/(def_ind[1] + def_ind[0])\n",
        "def_ind"
      ],
      "metadata": {
        "colab": {
          "base_uri": "https://localhost:8080/",
          "height": 708
        },
        "id": "3FHaG_mNM0mL",
        "outputId": "eb61e9a9-f5a7-4243-fe8b-126b4201ad41"
      },
      "execution_count": null,
      "outputs": [
        {
          "output_type": "execute_result",
          "data": {
            "text/plain": [
              "Default                       0      1  Def_Percent\n",
              "Industry                                           \n",
              "Accom/Food_serv           25678   8558     0.249971\n",
              "Admin_sup/Waste_Mgmt_Rem  16522   5473     0.248829\n",
              "Ag/For/Fish/Hunt           6952    669     0.087784\n",
              "Arts/Entertain/Rec         7307   1950     0.210651\n",
              "Construction              37006  12179     0.247616\n",
              "Educational                2914   1087     0.271682\n",
              "Finance/Insurance          4226   2103     0.332280\n",
              "Healthcare/Social_assist  30830   3625     0.105210\n",
              "Information                5503   1843     0.250885\n",
              "Manufacturing             38146   7342     0.161405\n",
              "Mgmt_comp                    97     23     0.191667\n",
              "Min/Quar/Oil_Gas_ext       1228    119     0.088344\n",
              "Other_no_pub              35331   9438     0.210816\n",
              "Prof/Science/Tech         39258   9906     0.201489\n",
              "Public_Admin                153     30     0.163934\n",
              "RE/Rental/Lease            6435   3111     0.325896\n",
              "Retail_trade              61640  19239     0.237874\n",
              "Trans/Ware                10924   4471     0.290419\n",
              "Utilities                   355     79     0.182028\n",
              "Wholesale_trade           27675   7098     0.204124"
            ],
            "text/html": [
              "\n",
              "  <div id=\"df-1d44da34-0df3-4f9b-955a-58a720ffe778\">\n",
              "    <div class=\"colab-df-container\">\n",
              "      <div>\n",
              "<style scoped>\n",
              "    .dataframe tbody tr th:only-of-type {\n",
              "        vertical-align: middle;\n",
              "    }\n",
              "\n",
              "    .dataframe tbody tr th {\n",
              "        vertical-align: top;\n",
              "    }\n",
              "\n",
              "    .dataframe thead th {\n",
              "        text-align: right;\n",
              "    }\n",
              "</style>\n",
              "<table border=\"1\" class=\"dataframe\">\n",
              "  <thead>\n",
              "    <tr style=\"text-align: right;\">\n",
              "      <th>Default</th>\n",
              "      <th>0</th>\n",
              "      <th>1</th>\n",
              "      <th>Def_Percent</th>\n",
              "    </tr>\n",
              "    <tr>\n",
              "      <th>Industry</th>\n",
              "      <th></th>\n",
              "      <th></th>\n",
              "      <th></th>\n",
              "    </tr>\n",
              "  </thead>\n",
              "  <tbody>\n",
              "    <tr>\n",
              "      <th>Accom/Food_serv</th>\n",
              "      <td>25678</td>\n",
              "      <td>8558</td>\n",
              "      <td>0.249971</td>\n",
              "    </tr>\n",
              "    <tr>\n",
              "      <th>Admin_sup/Waste_Mgmt_Rem</th>\n",
              "      <td>16522</td>\n",
              "      <td>5473</td>\n",
              "      <td>0.248829</td>\n",
              "    </tr>\n",
              "    <tr>\n",
              "      <th>Ag/For/Fish/Hunt</th>\n",
              "      <td>6952</td>\n",
              "      <td>669</td>\n",
              "      <td>0.087784</td>\n",
              "    </tr>\n",
              "    <tr>\n",
              "      <th>Arts/Entertain/Rec</th>\n",
              "      <td>7307</td>\n",
              "      <td>1950</td>\n",
              "      <td>0.210651</td>\n",
              "    </tr>\n",
              "    <tr>\n",
              "      <th>Construction</th>\n",
              "      <td>37006</td>\n",
              "      <td>12179</td>\n",
              "      <td>0.247616</td>\n",
              "    </tr>\n",
              "    <tr>\n",
              "      <th>Educational</th>\n",
              "      <td>2914</td>\n",
              "      <td>1087</td>\n",
              "      <td>0.271682</td>\n",
              "    </tr>\n",
              "    <tr>\n",
              "      <th>Finance/Insurance</th>\n",
              "      <td>4226</td>\n",
              "      <td>2103</td>\n",
              "      <td>0.332280</td>\n",
              "    </tr>\n",
              "    <tr>\n",
              "      <th>Healthcare/Social_assist</th>\n",
              "      <td>30830</td>\n",
              "      <td>3625</td>\n",
              "      <td>0.105210</td>\n",
              "    </tr>\n",
              "    <tr>\n",
              "      <th>Information</th>\n",
              "      <td>5503</td>\n",
              "      <td>1843</td>\n",
              "      <td>0.250885</td>\n",
              "    </tr>\n",
              "    <tr>\n",
              "      <th>Manufacturing</th>\n",
              "      <td>38146</td>\n",
              "      <td>7342</td>\n",
              "      <td>0.161405</td>\n",
              "    </tr>\n",
              "    <tr>\n",
              "      <th>Mgmt_comp</th>\n",
              "      <td>97</td>\n",
              "      <td>23</td>\n",
              "      <td>0.191667</td>\n",
              "    </tr>\n",
              "    <tr>\n",
              "      <th>Min/Quar/Oil_Gas_ext</th>\n",
              "      <td>1228</td>\n",
              "      <td>119</td>\n",
              "      <td>0.088344</td>\n",
              "    </tr>\n",
              "    <tr>\n",
              "      <th>Other_no_pub</th>\n",
              "      <td>35331</td>\n",
              "      <td>9438</td>\n",
              "      <td>0.210816</td>\n",
              "    </tr>\n",
              "    <tr>\n",
              "      <th>Prof/Science/Tech</th>\n",
              "      <td>39258</td>\n",
              "      <td>9906</td>\n",
              "      <td>0.201489</td>\n",
              "    </tr>\n",
              "    <tr>\n",
              "      <th>Public_Admin</th>\n",
              "      <td>153</td>\n",
              "      <td>30</td>\n",
              "      <td>0.163934</td>\n",
              "    </tr>\n",
              "    <tr>\n",
              "      <th>RE/Rental/Lease</th>\n",
              "      <td>6435</td>\n",
              "      <td>3111</td>\n",
              "      <td>0.325896</td>\n",
              "    </tr>\n",
              "    <tr>\n",
              "      <th>Retail_trade</th>\n",
              "      <td>61640</td>\n",
              "      <td>19239</td>\n",
              "      <td>0.237874</td>\n",
              "    </tr>\n",
              "    <tr>\n",
              "      <th>Trans/Ware</th>\n",
              "      <td>10924</td>\n",
              "      <td>4471</td>\n",
              "      <td>0.290419</td>\n",
              "    </tr>\n",
              "    <tr>\n",
              "      <th>Utilities</th>\n",
              "      <td>355</td>\n",
              "      <td>79</td>\n",
              "      <td>0.182028</td>\n",
              "    </tr>\n",
              "    <tr>\n",
              "      <th>Wholesale_trade</th>\n",
              "      <td>27675</td>\n",
              "      <td>7098</td>\n",
              "      <td>0.204124</td>\n",
              "    </tr>\n",
              "  </tbody>\n",
              "</table>\n",
              "</div>\n",
              "      <button class=\"colab-df-convert\" onclick=\"convertToInteractive('df-1d44da34-0df3-4f9b-955a-58a720ffe778')\"\n",
              "              title=\"Convert this dataframe to an interactive table.\"\n",
              "              style=\"display:none;\">\n",
              "        \n",
              "  <svg xmlns=\"http://www.w3.org/2000/svg\" height=\"24px\"viewBox=\"0 0 24 24\"\n",
              "       width=\"24px\">\n",
              "    <path d=\"M0 0h24v24H0V0z\" fill=\"none\"/>\n",
              "    <path d=\"M18.56 5.44l.94 2.06.94-2.06 2.06-.94-2.06-.94-.94-2.06-.94 2.06-2.06.94zm-11 1L8.5 8.5l.94-2.06 2.06-.94-2.06-.94L8.5 2.5l-.94 2.06-2.06.94zm10 10l.94 2.06.94-2.06 2.06-.94-2.06-.94-.94-2.06-.94 2.06-2.06.94z\"/><path d=\"M17.41 7.96l-1.37-1.37c-.4-.4-.92-.59-1.43-.59-.52 0-1.04.2-1.43.59L10.3 9.45l-7.72 7.72c-.78.78-.78 2.05 0 2.83L4 21.41c.39.39.9.59 1.41.59.51 0 1.02-.2 1.41-.59l7.78-7.78 2.81-2.81c.8-.78.8-2.07 0-2.86zM5.41 20L4 18.59l7.72-7.72 1.47 1.35L5.41 20z\"/>\n",
              "  </svg>\n",
              "      </button>\n",
              "      \n",
              "  <style>\n",
              "    .colab-df-container {\n",
              "      display:flex;\n",
              "      flex-wrap:wrap;\n",
              "      gap: 12px;\n",
              "    }\n",
              "\n",
              "    .colab-df-convert {\n",
              "      background-color: #E8F0FE;\n",
              "      border: none;\n",
              "      border-radius: 50%;\n",
              "      cursor: pointer;\n",
              "      display: none;\n",
              "      fill: #1967D2;\n",
              "      height: 32px;\n",
              "      padding: 0 0 0 0;\n",
              "      width: 32px;\n",
              "    }\n",
              "\n",
              "    .colab-df-convert:hover {\n",
              "      background-color: #E2EBFA;\n",
              "      box-shadow: 0px 1px 2px rgba(60, 64, 67, 0.3), 0px 1px 3px 1px rgba(60, 64, 67, 0.15);\n",
              "      fill: #174EA6;\n",
              "    }\n",
              "\n",
              "    [theme=dark] .colab-df-convert {\n",
              "      background-color: #3B4455;\n",
              "      fill: #D2E3FC;\n",
              "    }\n",
              "\n",
              "    [theme=dark] .colab-df-convert:hover {\n",
              "      background-color: #434B5C;\n",
              "      box-shadow: 0px 1px 3px 1px rgba(0, 0, 0, 0.15);\n",
              "      filter: drop-shadow(0px 1px 2px rgba(0, 0, 0, 0.3));\n",
              "      fill: #FFFFFF;\n",
              "    }\n",
              "  </style>\n",
              "\n",
              "      <script>\n",
              "        const buttonEl =\n",
              "          document.querySelector('#df-1d44da34-0df3-4f9b-955a-58a720ffe778 button.colab-df-convert');\n",
              "        buttonEl.style.display =\n",
              "          google.colab.kernel.accessAllowed ? 'block' : 'none';\n",
              "\n",
              "        async function convertToInteractive(key) {\n",
              "          const element = document.querySelector('#df-1d44da34-0df3-4f9b-955a-58a720ffe778');\n",
              "          const dataTable =\n",
              "            await google.colab.kernel.invokeFunction('convertToInteractive',\n",
              "                                                     [key], {});\n",
              "          if (!dataTable) return;\n",
              "\n",
              "          const docLinkHtml = 'Like what you see? Visit the ' +\n",
              "            '<a target=\"_blank\" href=https://colab.research.google.com/notebooks/data_table.ipynb>data table notebook</a>'\n",
              "            + ' to learn more about interactive tables.';\n",
              "          element.innerHTML = '';\n",
              "          dataTable['output_type'] = 'display_data';\n",
              "          await google.colab.output.renderOutput(dataTable, element);\n",
              "          const docLink = document.createElement('div');\n",
              "          docLink.innerHTML = docLinkHtml;\n",
              "          element.appendChild(docLink);\n",
              "        }\n",
              "      </script>\n",
              "    </div>\n",
              "  </div>\n",
              "  "
            ]
          },
          "metadata": {},
          "execution_count": 38
        }
      ]
    },
    {
      "cell_type": "code",
      "source": [
        "# Check Default percentage by State\n",
        "def_state = df.groupby(['State', 'Default'])['State'].count().unstack('Default')\n",
        "def_state['Def_Percent'] = def_state[1]/(def_state[1] + def_state[0])\n",
        "def_state"
      ],
      "metadata": {
        "colab": {
          "base_uri": "https://localhost:8080/",
          "height": 1000
        },
        "id": "fce3FaGEM-it",
        "outputId": "d684166e-9780-4dd3-b39d-5c7c5f423ec2"
      },
      "execution_count": null,
      "outputs": [
        {
          "output_type": "execute_result",
          "data": {
            "text/plain": [
              "Default      0      1  Def_Percent\n",
              "State                             \n",
              "AK        1005     96     0.087193\n",
              "AL        3294    816     0.198540\n",
              "AR        2513    534     0.175254\n",
              "AZ        5435   2503     0.315319\n",
              "CA       45044  16291     0.265607\n",
              "CO        7856   2380     0.232513\n",
              "CT        5500   1073     0.163244\n",
              "DC         592    158     0.210667\n",
              "DE         873    249     0.221925\n",
              "FL       15459   7640     0.330750\n",
              "GA        7407   3155     0.298712\n",
              "HI        1279    267     0.172704\n",
              "IA        4786    580     0.108088\n",
              "ID        4230    895     0.174634\n",
              "IL       12142   4550     0.272586\n",
              "IN        6322   1551     0.197002\n",
              "KS        4473    644     0.125855\n",
              "KY        3151    809     0.204293\n",
              "LA        3408    791     0.188378\n",
              "MA       12416   2303     0.156464\n",
              "MD        5304   1443     0.213873\n",
              "ME        2634    319     0.108026\n",
              "MI        8594   3322     0.278785\n",
              "MN        9816   1704     0.147917\n",
              "MO        8074   1665     0.170962\n",
              "MS        4002    694     0.147785\n",
              "MT        3707    266     0.066952\n",
              "NC        5274   1450     0.215645\n",
              "ND        2445    176     0.067150\n",
              "NE        2477    295     0.106421\n",
              "NH        6139    930     0.131560\n",
              "NJ        8524   3248     0.275909\n",
              "NM        2499    325     0.115085\n",
              "NV        2787   1255     0.310490\n",
              "NY       25926   8309     0.242705\n",
              "OH       15055   3655     0.195350\n",
              "OK        4008    778     0.162557\n",
              "OR        4807   1153     0.193456\n",
              "PA       15544   3163     0.169081\n",
              "RI        4333    733     0.144690\n",
              "SC        2013    619     0.235182\n",
              "SD        1834    134     0.068089\n",
              "TN        3631   1011     0.217794\n",
              "TX       23951   6312     0.208572\n",
              "UT        9084   2636     0.224915\n",
              "VA        5122   1386     0.212969\n",
              "VT        2315    205     0.081349\n",
              "WA        9476   2096     0.181127\n",
              "WI        9163   1493     0.140109\n",
              "WV        1257    213     0.144898\n",
              "WY        1200     70     0.055118"
            ],
            "text/html": [
              "\n",
              "  <div id=\"df-456c7e54-25fe-4764-954a-ba3a95f04831\">\n",
              "    <div class=\"colab-df-container\">\n",
              "      <div>\n",
              "<style scoped>\n",
              "    .dataframe tbody tr th:only-of-type {\n",
              "        vertical-align: middle;\n",
              "    }\n",
              "\n",
              "    .dataframe tbody tr th {\n",
              "        vertical-align: top;\n",
              "    }\n",
              "\n",
              "    .dataframe thead th {\n",
              "        text-align: right;\n",
              "    }\n",
              "</style>\n",
              "<table border=\"1\" class=\"dataframe\">\n",
              "  <thead>\n",
              "    <tr style=\"text-align: right;\">\n",
              "      <th>Default</th>\n",
              "      <th>0</th>\n",
              "      <th>1</th>\n",
              "      <th>Def_Percent</th>\n",
              "    </tr>\n",
              "    <tr>\n",
              "      <th>State</th>\n",
              "      <th></th>\n",
              "      <th></th>\n",
              "      <th></th>\n",
              "    </tr>\n",
              "  </thead>\n",
              "  <tbody>\n",
              "    <tr>\n",
              "      <th>AK</th>\n",
              "      <td>1005</td>\n",
              "      <td>96</td>\n",
              "      <td>0.087193</td>\n",
              "    </tr>\n",
              "    <tr>\n",
              "      <th>AL</th>\n",
              "      <td>3294</td>\n",
              "      <td>816</td>\n",
              "      <td>0.198540</td>\n",
              "    </tr>\n",
              "    <tr>\n",
              "      <th>AR</th>\n",
              "      <td>2513</td>\n",
              "      <td>534</td>\n",
              "      <td>0.175254</td>\n",
              "    </tr>\n",
              "    <tr>\n",
              "      <th>AZ</th>\n",
              "      <td>5435</td>\n",
              "      <td>2503</td>\n",
              "      <td>0.315319</td>\n",
              "    </tr>\n",
              "    <tr>\n",
              "      <th>CA</th>\n",
              "      <td>45044</td>\n",
              "      <td>16291</td>\n",
              "      <td>0.265607</td>\n",
              "    </tr>\n",
              "    <tr>\n",
              "      <th>CO</th>\n",
              "      <td>7856</td>\n",
              "      <td>2380</td>\n",
              "      <td>0.232513</td>\n",
              "    </tr>\n",
              "    <tr>\n",
              "      <th>CT</th>\n",
              "      <td>5500</td>\n",
              "      <td>1073</td>\n",
              "      <td>0.163244</td>\n",
              "    </tr>\n",
              "    <tr>\n",
              "      <th>DC</th>\n",
              "      <td>592</td>\n",
              "      <td>158</td>\n",
              "      <td>0.210667</td>\n",
              "    </tr>\n",
              "    <tr>\n",
              "      <th>DE</th>\n",
              "      <td>873</td>\n",
              "      <td>249</td>\n",
              "      <td>0.221925</td>\n",
              "    </tr>\n",
              "    <tr>\n",
              "      <th>FL</th>\n",
              "      <td>15459</td>\n",
              "      <td>7640</td>\n",
              "      <td>0.330750</td>\n",
              "    </tr>\n",
              "    <tr>\n",
              "      <th>GA</th>\n",
              "      <td>7407</td>\n",
              "      <td>3155</td>\n",
              "      <td>0.298712</td>\n",
              "    </tr>\n",
              "    <tr>\n",
              "      <th>HI</th>\n",
              "      <td>1279</td>\n",
              "      <td>267</td>\n",
              "      <td>0.172704</td>\n",
              "    </tr>\n",
              "    <tr>\n",
              "      <th>IA</th>\n",
              "      <td>4786</td>\n",
              "      <td>580</td>\n",
              "      <td>0.108088</td>\n",
              "    </tr>\n",
              "    <tr>\n",
              "      <th>ID</th>\n",
              "      <td>4230</td>\n",
              "      <td>895</td>\n",
              "      <td>0.174634</td>\n",
              "    </tr>\n",
              "    <tr>\n",
              "      <th>IL</th>\n",
              "      <td>12142</td>\n",
              "      <td>4550</td>\n",
              "      <td>0.272586</td>\n",
              "    </tr>\n",
              "    <tr>\n",
              "      <th>IN</th>\n",
              "      <td>6322</td>\n",
              "      <td>1551</td>\n",
              "      <td>0.197002</td>\n",
              "    </tr>\n",
              "    <tr>\n",
              "      <th>KS</th>\n",
              "      <td>4473</td>\n",
              "      <td>644</td>\n",
              "      <td>0.125855</td>\n",
              "    </tr>\n",
              "    <tr>\n",
              "      <th>KY</th>\n",
              "      <td>3151</td>\n",
              "      <td>809</td>\n",
              "      <td>0.204293</td>\n",
              "    </tr>\n",
              "    <tr>\n",
              "      <th>LA</th>\n",
              "      <td>3408</td>\n",
              "      <td>791</td>\n",
              "      <td>0.188378</td>\n",
              "    </tr>\n",
              "    <tr>\n",
              "      <th>MA</th>\n",
              "      <td>12416</td>\n",
              "      <td>2303</td>\n",
              "      <td>0.156464</td>\n",
              "    </tr>\n",
              "    <tr>\n",
              "      <th>MD</th>\n",
              "      <td>5304</td>\n",
              "      <td>1443</td>\n",
              "      <td>0.213873</td>\n",
              "    </tr>\n",
              "    <tr>\n",
              "      <th>ME</th>\n",
              "      <td>2634</td>\n",
              "      <td>319</td>\n",
              "      <td>0.108026</td>\n",
              "    </tr>\n",
              "    <tr>\n",
              "      <th>MI</th>\n",
              "      <td>8594</td>\n",
              "      <td>3322</td>\n",
              "      <td>0.278785</td>\n",
              "    </tr>\n",
              "    <tr>\n",
              "      <th>MN</th>\n",
              "      <td>9816</td>\n",
              "      <td>1704</td>\n",
              "      <td>0.147917</td>\n",
              "    </tr>\n",
              "    <tr>\n",
              "      <th>MO</th>\n",
              "      <td>8074</td>\n",
              "      <td>1665</td>\n",
              "      <td>0.170962</td>\n",
              "    </tr>\n",
              "    <tr>\n",
              "      <th>MS</th>\n",
              "      <td>4002</td>\n",
              "      <td>694</td>\n",
              "      <td>0.147785</td>\n",
              "    </tr>\n",
              "    <tr>\n",
              "      <th>MT</th>\n",
              "      <td>3707</td>\n",
              "      <td>266</td>\n",
              "      <td>0.066952</td>\n",
              "    </tr>\n",
              "    <tr>\n",
              "      <th>NC</th>\n",
              "      <td>5274</td>\n",
              "      <td>1450</td>\n",
              "      <td>0.215645</td>\n",
              "    </tr>\n",
              "    <tr>\n",
              "      <th>ND</th>\n",
              "      <td>2445</td>\n",
              "      <td>176</td>\n",
              "      <td>0.067150</td>\n",
              "    </tr>\n",
              "    <tr>\n",
              "      <th>NE</th>\n",
              "      <td>2477</td>\n",
              "      <td>295</td>\n",
              "      <td>0.106421</td>\n",
              "    </tr>\n",
              "    <tr>\n",
              "      <th>NH</th>\n",
              "      <td>6139</td>\n",
              "      <td>930</td>\n",
              "      <td>0.131560</td>\n",
              "    </tr>\n",
              "    <tr>\n",
              "      <th>NJ</th>\n",
              "      <td>8524</td>\n",
              "      <td>3248</td>\n",
              "      <td>0.275909</td>\n",
              "    </tr>\n",
              "    <tr>\n",
              "      <th>NM</th>\n",
              "      <td>2499</td>\n",
              "      <td>325</td>\n",
              "      <td>0.115085</td>\n",
              "    </tr>\n",
              "    <tr>\n",
              "      <th>NV</th>\n",
              "      <td>2787</td>\n",
              "      <td>1255</td>\n",
              "      <td>0.310490</td>\n",
              "    </tr>\n",
              "    <tr>\n",
              "      <th>NY</th>\n",
              "      <td>25926</td>\n",
              "      <td>8309</td>\n",
              "      <td>0.242705</td>\n",
              "    </tr>\n",
              "    <tr>\n",
              "      <th>OH</th>\n",
              "      <td>15055</td>\n",
              "      <td>3655</td>\n",
              "      <td>0.195350</td>\n",
              "    </tr>\n",
              "    <tr>\n",
              "      <th>OK</th>\n",
              "      <td>4008</td>\n",
              "      <td>778</td>\n",
              "      <td>0.162557</td>\n",
              "    </tr>\n",
              "    <tr>\n",
              "      <th>OR</th>\n",
              "      <td>4807</td>\n",
              "      <td>1153</td>\n",
              "      <td>0.193456</td>\n",
              "    </tr>\n",
              "    <tr>\n",
              "      <th>PA</th>\n",
              "      <td>15544</td>\n",
              "      <td>3163</td>\n",
              "      <td>0.169081</td>\n",
              "    </tr>\n",
              "    <tr>\n",
              "      <th>RI</th>\n",
              "      <td>4333</td>\n",
              "      <td>733</td>\n",
              "      <td>0.144690</td>\n",
              "    </tr>\n",
              "    <tr>\n",
              "      <th>SC</th>\n",
              "      <td>2013</td>\n",
              "      <td>619</td>\n",
              "      <td>0.235182</td>\n",
              "    </tr>\n",
              "    <tr>\n",
              "      <th>SD</th>\n",
              "      <td>1834</td>\n",
              "      <td>134</td>\n",
              "      <td>0.068089</td>\n",
              "    </tr>\n",
              "    <tr>\n",
              "      <th>TN</th>\n",
              "      <td>3631</td>\n",
              "      <td>1011</td>\n",
              "      <td>0.217794</td>\n",
              "    </tr>\n",
              "    <tr>\n",
              "      <th>TX</th>\n",
              "      <td>23951</td>\n",
              "      <td>6312</td>\n",
              "      <td>0.208572</td>\n",
              "    </tr>\n",
              "    <tr>\n",
              "      <th>UT</th>\n",
              "      <td>9084</td>\n",
              "      <td>2636</td>\n",
              "      <td>0.224915</td>\n",
              "    </tr>\n",
              "    <tr>\n",
              "      <th>VA</th>\n",
              "      <td>5122</td>\n",
              "      <td>1386</td>\n",
              "      <td>0.212969</td>\n",
              "    </tr>\n",
              "    <tr>\n",
              "      <th>VT</th>\n",
              "      <td>2315</td>\n",
              "      <td>205</td>\n",
              "      <td>0.081349</td>\n",
              "    </tr>\n",
              "    <tr>\n",
              "      <th>WA</th>\n",
              "      <td>9476</td>\n",
              "      <td>2096</td>\n",
              "      <td>0.181127</td>\n",
              "    </tr>\n",
              "    <tr>\n",
              "      <th>WI</th>\n",
              "      <td>9163</td>\n",
              "      <td>1493</td>\n",
              "      <td>0.140109</td>\n",
              "    </tr>\n",
              "    <tr>\n",
              "      <th>WV</th>\n",
              "      <td>1257</td>\n",
              "      <td>213</td>\n",
              "      <td>0.144898</td>\n",
              "    </tr>\n",
              "    <tr>\n",
              "      <th>WY</th>\n",
              "      <td>1200</td>\n",
              "      <td>70</td>\n",
              "      <td>0.055118</td>\n",
              "    </tr>\n",
              "  </tbody>\n",
              "</table>\n",
              "</div>\n",
              "      <button class=\"colab-df-convert\" onclick=\"convertToInteractive('df-456c7e54-25fe-4764-954a-ba3a95f04831')\"\n",
              "              title=\"Convert this dataframe to an interactive table.\"\n",
              "              style=\"display:none;\">\n",
              "        \n",
              "  <svg xmlns=\"http://www.w3.org/2000/svg\" height=\"24px\"viewBox=\"0 0 24 24\"\n",
              "       width=\"24px\">\n",
              "    <path d=\"M0 0h24v24H0V0z\" fill=\"none\"/>\n",
              "    <path d=\"M18.56 5.44l.94 2.06.94-2.06 2.06-.94-2.06-.94-.94-2.06-.94 2.06-2.06.94zm-11 1L8.5 8.5l.94-2.06 2.06-.94-2.06-.94L8.5 2.5l-.94 2.06-2.06.94zm10 10l.94 2.06.94-2.06 2.06-.94-2.06-.94-.94-2.06-.94 2.06-2.06.94z\"/><path d=\"M17.41 7.96l-1.37-1.37c-.4-.4-.92-.59-1.43-.59-.52 0-1.04.2-1.43.59L10.3 9.45l-7.72 7.72c-.78.78-.78 2.05 0 2.83L4 21.41c.39.39.9.59 1.41.59.51 0 1.02-.2 1.41-.59l7.78-7.78 2.81-2.81c.8-.78.8-2.07 0-2.86zM5.41 20L4 18.59l7.72-7.72 1.47 1.35L5.41 20z\"/>\n",
              "  </svg>\n",
              "      </button>\n",
              "      \n",
              "  <style>\n",
              "    .colab-df-container {\n",
              "      display:flex;\n",
              "      flex-wrap:wrap;\n",
              "      gap: 12px;\n",
              "    }\n",
              "\n",
              "    .colab-df-convert {\n",
              "      background-color: #E8F0FE;\n",
              "      border: none;\n",
              "      border-radius: 50%;\n",
              "      cursor: pointer;\n",
              "      display: none;\n",
              "      fill: #1967D2;\n",
              "      height: 32px;\n",
              "      padding: 0 0 0 0;\n",
              "      width: 32px;\n",
              "    }\n",
              "\n",
              "    .colab-df-convert:hover {\n",
              "      background-color: #E2EBFA;\n",
              "      box-shadow: 0px 1px 2px rgba(60, 64, 67, 0.3), 0px 1px 3px 1px rgba(60, 64, 67, 0.15);\n",
              "      fill: #174EA6;\n",
              "    }\n",
              "\n",
              "    [theme=dark] .colab-df-convert {\n",
              "      background-color: #3B4455;\n",
              "      fill: #D2E3FC;\n",
              "    }\n",
              "\n",
              "    [theme=dark] .colab-df-convert:hover {\n",
              "      background-color: #434B5C;\n",
              "      box-shadow: 0px 1px 3px 1px rgba(0, 0, 0, 0.15);\n",
              "      filter: drop-shadow(0px 1px 2px rgba(0, 0, 0, 0.3));\n",
              "      fill: #FFFFFF;\n",
              "    }\n",
              "  </style>\n",
              "\n",
              "      <script>\n",
              "        const buttonEl =\n",
              "          document.querySelector('#df-456c7e54-25fe-4764-954a-ba3a95f04831 button.colab-df-convert');\n",
              "        buttonEl.style.display =\n",
              "          google.colab.kernel.accessAllowed ? 'block' : 'none';\n",
              "\n",
              "        async function convertToInteractive(key) {\n",
              "          const element = document.querySelector('#df-456c7e54-25fe-4764-954a-ba3a95f04831');\n",
              "          const dataTable =\n",
              "            await google.colab.kernel.invokeFunction('convertToInteractive',\n",
              "                                                     [key], {});\n",
              "          if (!dataTable) return;\n",
              "\n",
              "          const docLinkHtml = 'Like what you see? Visit the ' +\n",
              "            '<a target=\"_blank\" href=https://colab.research.google.com/notebooks/data_table.ipynb>data table notebook</a>'\n",
              "            + ' to learn more about interactive tables.';\n",
              "          element.innerHTML = '';\n",
              "          dataTable['output_type'] = 'display_data';\n",
              "          await google.colab.output.renderOutput(dataTable, element);\n",
              "          const docLink = document.createElement('div');\n",
              "          docLink.innerHTML = docLinkHtml;\n",
              "          element.appendChild(docLink);\n",
              "        }\n",
              "      </script>\n",
              "    </div>\n",
              "  </div>\n",
              "  "
            ]
          },
          "metadata": {},
          "execution_count": 39
        }
      ]
    },
    {
      "cell_type": "markdown",
      "source": [
        "The graphs above tell us:\n",
        "\n",
        "\n",
        "1.   Industries with the highest number of loans during sample period: Retail trade (78,554), Professional, scientific and technical services (47,081) and Construction (47,047).\n",
        "2.   Industries with the highest Default percentage: Finance and Insurance (34.4%), Real Estate and rental leasing (33.8%) and Transportation and warehousing (30.7%).\n",
        "3. States with the highest number of loans during sample period: California (59,121), New York (33,059) and Texas (28,941)\n",
        "State with the highest Default percentage: Florida (33.8%), Arizona (32.6%) and Nevada (31.6%).\n",
        "\n",
        "\n",
        "\n"
      ],
      "metadata": {
        "id": "tAthArIQNEra"
      }
    },
    {
      "cell_type": "code",
      "source": [
        "# Paid in full and Defaulted loans by DisbursementFY\n",
        "# Decided to use a stacked area chart here since it's time series data\n",
        "fig4, ax4 = plt.subplots(figsize=(15, 5))\n",
        "\n",
        "stack_data = df.groupby(['DisbursementFY', 'Default'])['DisbursementFY'].count().unstack('Default')\n",
        "x = stack_data.index\n",
        "y = [stack_data[1], stack_data[0]]\n",
        "\n",
        "ax4.stackplot(x, y, labels=['Default', 'Paid in full'])\n",
        "ax4.set_title('Number of PIF/Defaulted Loans by State from 1984-2010', fontsize=15)\n",
        "ax4.set_xlabel('Disbursement Year')\n",
        "ax4.set_ylabel('Number of PIF/Defaulted Loans')\n",
        "ax4.legend(loc='upper left')\n",
        "\n",
        "plt.show()"
      ],
      "metadata": {
        "colab": {
          "base_uri": "https://localhost:8080/",
          "height": 352
        },
        "id": "_VTKPvLqNACV",
        "outputId": "535e1098-6fdb-49fd-d12f-283641b0127f"
      },
      "execution_count": null,
      "outputs": [
        {
          "output_type": "display_data",
          "data": {
            "text/plain": [
              "<Figure size 1080x360 with 1 Axes>"
            ],
            "image/png": "[encoded data removed]"
          },
          "metadata": {
            "needs_background": "light"
          }
        }
      ]
    },
    {
      "cell_type": "markdown",
      "source": [
        "There is a clear increase in loan volume leading up to the peak of the Great Recession, with a subsequent drop in loan volume immediately following that time. Looking at the graph, it appears the default rate of loans increased during that time as well."
      ],
      "metadata": {
        "id": "v3tgaYXSNY1L"
      }
    },
    {
      "cell_type": "markdown",
      "metadata": {
        "id": "aqkXtfMXOF0w"
      },
      "source": [
        "# Build The Model\n",
        "\n"
      ]
    },
    {
      "cell_type": "code",
      "source": [
        "# One-hot encode categorical data\n",
        "df = pd.get_dummies(df)\n",
        "\n",
        "df.head()"
      ],
      "metadata": {
        "id": "i-Ljx73tOJSk",
        "colab": {
          "base_uri": "https://localhost:8080/",
          "height": 299
        },
        "outputId": "bf8c3465-9b73-415c-a651-07d8a9f3170f"
      },
      "execution_count": null,
      "outputs": [
        {
          "output_type": "execute_result",
          "data": {
            "text/plain": [
              "   ApprovalFY  Term  NoEmp  CreateJob  RetainedJob  RevLineCr  LowDoc  \\\n",
              "0        1997    84      4          0            0          0       1   \n",
              "1        1997    60      2          0            0          0       1   \n",
              "2        1997   180      7          0            0          0       0   \n",
              "5        1997   120     19          0            0          0       0   \n",
              "7        1997    84      1          0            0          0       1   \n",
              "\n",
              "   DisbursementGross    GrAppv  IsFranchise  ...  Industry_Mgmt_comp  \\\n",
              "0            60000.0   60000.0            0  ...                   0   \n",
              "1            40000.0   40000.0            0  ...                   0   \n",
              "2           287000.0  287000.0            0  ...                   0   \n",
              "5           517000.0  517000.0            0  ...                   0   \n",
              "7            45000.0   45000.0            0  ...                   0   \n",
              "\n",
              "   Industry_Min/Quar/Oil_Gas_ext  Industry_Other_no_pub  \\\n",
              "0                              0                      0   \n",
              "1                              0                      0   \n",
              "2                              0                      0   \n",
              "5                              0                      0   \n",
              "7                              0                      1   \n",
              "\n",
              "   Industry_Prof/Science/Tech  Industry_Public_Admin  \\\n",
              "0                           0                      0   \n",
              "1                           0                      0   \n",
              "2                           0                      0   \n",
              "5                           0                      0   \n",
              "7                           0                      0   \n",
              "\n",
              "   Industry_RE/Rental/Lease  Industry_Retail_trade  Industry_Trans/Ware  \\\n",
              "0                         0                      1                    0   \n",
              "1                         0                      0                    0   \n",
              "2                         0                      0                    0   \n",
              "5                         0                      0                    0   \n",
              "7                         0                      0                    0   \n",
              "\n",
              "   Industry_Utilities  Industry_Wholesale_trade  \n",
              "0                   0                         0  \n",
              "1                   0                         0  \n",
              "2                   0                         0  \n",
              "5                   0                         0  \n",
              "7                   0                         0  \n",
              "\n",
              "[5 rows x 144 columns]"
            ],
            "text/html": [
              "\n",
              "  <div id=\"df-aa5cce65-03a3-4432-8c29-624cfb1afcfd\">\n",
              "    <div class=\"colab-df-container\">\n",
              "      <div>\n",
              "<style scoped>\n",
              "    .dataframe tbody tr th:only-of-type {\n",
              "        vertical-align: middle;\n",
              "    }\n",
              "\n",
              "    .dataframe tbody tr th {\n",
              "        vertical-align: top;\n",
              "    }\n",
              "\n",
              "    .dataframe thead th {\n",
              "        text-align: right;\n",
              "    }\n",
              "</style>\n",
              "<table border=\"1\" class=\"dataframe\">\n",
              "  <thead>\n",
              "    <tr style=\"text-align: right;\">\n",
              "      <th></th>\n",
              "      <th>ApprovalFY</th>\n",
              "      <th>Term</th>\n",
              "      <th>NoEmp</th>\n",
              "      <th>CreateJob</th>\n",
              "      <th>RetainedJob</th>\n",
              "      <th>RevLineCr</th>\n",
              "      <th>LowDoc</th>\n",
              "      <th>DisbursementGross</th>\n",
              "      <th>GrAppv</th>\n",
              "      <th>IsFranchise</th>\n",
              "      <th>...</th>\n",
              "      <th>Industry_Mgmt_comp</th>\n",
              "      <th>Industry_Min/Quar/Oil_Gas_ext</th>\n",
              "      <th>Industry_Other_no_pub</th>\n",
              "      <th>Industry_Prof/Science/Tech</th>\n",
              "      <th>Industry_Public_Admin</th>\n",
              "      <th>Industry_RE/Rental/Lease</th>\n",
              "      <th>Industry_Retail_trade</th>\n",
              "      <th>Industry_Trans/Ware</th>\n",
              "      <th>Industry_Utilities</th>\n",
              "      <th>Industry_Wholesale_trade</th>\n",
              "    </tr>\n",
              "  </thead>\n",
              "  <tbody>\n",
              "    <tr>\n",
              "      <th>0</th>\n",
              "      <td>1997</td>\n",
              "      <td>84</td>\n",
              "      <td>4</td>\n",
              "      <td>0</td>\n",
              "      <td>0</td>\n",
              "      <td>0</td>\n",
              "      <td>1</td>\n",
              "      <td>60000.0</td>\n",
              "      <td>60000.0</td>\n",
              "      <td>0</td>\n",
              "      <td>...</td>\n",
              "      <td>0</td>\n",
              "      <td>0</td>\n",
              "      <td>0</td>\n",
              "      <td>0</td>\n",
              "      <td>0</td>\n",
              "      <td>0</td>\n",
              "      <td>1</td>\n",
              "      <td>0</td>\n",
              "      <td>0</td>\n",
              "      <td>0</td>\n",
              "    </tr>\n",
              "    <tr>\n",
              "      <th>1</th>\n",
              "      <td>1997</td>\n",
              "      <td>60</td>\n",
              "      <td>2</td>\n",
              "      <td>0</td>\n",
              "      <td>0</td>\n",
              "      <td>0</td>\n",
              "      <td>1</td>\n",
              "      <td>40000.0</td>\n",
              "      <td>40000.0</td>\n",
              "      <td>0</td>\n",
              "      <td>...</td>\n",
              "      <td>0</td>\n",
              "      <td>0</td>\n",
              "      <td>0</td>\n",
              "      <td>0</td>\n",
              "      <td>0</td>\n",
              "      <td>0</td>\n",
              "      <td>0</td>\n",
              "      <td>0</td>\n",
              "      <td>0</td>\n",
              "      <td>0</td>\n",
              "    </tr>\n",
              "    <tr>\n",
              "      <th>2</th>\n",
              "      <td>1997</td>\n",
              "      <td>180</td>\n",
              "      <td>7</td>\n",
              "      <td>0</td>\n",
              "      <td>0</td>\n",
              "      <td>0</td>\n",
              "      <td>0</td>\n",
              "      <td>287000.0</td>\n",
              "      <td>287000.0</td>\n",
              "      <td>0</td>\n",
              "      <td>...</td>\n",
              "      <td>0</td>\n",
              "      <td>0</td>\n",
              "      <td>0</td>\n",
              "      <td>0</td>\n",
              "      <td>0</td>\n",
              "      <td>0</td>\n",
              "      <td>0</td>\n",
              "      <td>0</td>\n",
              "      <td>0</td>\n",
              "      <td>0</td>\n",
              "    </tr>\n",
              "    <tr>\n",
              "      <th>5</th>\n",
              "      <td>1997</td>\n",
              "      <td>120</td>\n",
              "      <td>19</td>\n",
              "      <td>0</td>\n",
              "      <td>0</td>\n",
              "      <td>0</td>\n",
              "      <td>0</td>\n",
              "      <td>517000.0</td>\n",
              "      <td>517000.0</td>\n",
              "      <td>0</td>\n",
              "      <td>...</td>\n",
              "      <td>0</td>\n",
              "      <td>0</td>\n",
              "      <td>0</td>\n",
              "      <td>0</td>\n",
              "      <td>0</td>\n",
              "      <td>0</td>\n",
              "      <td>0</td>\n",
              "      <td>0</td>\n",
              "      <td>0</td>\n",
              "      <td>0</td>\n",
              "    </tr>\n",
              "    <tr>\n",
              "      <th>7</th>\n",
              "      <td>1997</td>\n",
              "      <td>84</td>\n",
              "      <td>1</td>\n",
              "      <td>0</td>\n",
              "      <td>0</td>\n",
              "      <td>0</td>\n",
              "      <td>1</td>\n",
              "      <td>45000.0</td>\n",
              "      <td>45000.0</td>\n",
              "      <td>0</td>\n",
              "      <td>...</td>\n",
              "      <td>0</td>\n",
              "      <td>0</td>\n",
              "      <td>1</td>\n",
              "      <td>0</td>\n",
              "      <td>0</td>\n",
              "      <td>0</td>\n",
              "      <td>0</td>\n",
              "      <td>0</td>\n",
              "      <td>0</td>\n",
              "      <td>0</td>\n",
              "    </tr>\n",
              "  </tbody>\n",
              "</table>\n",
              "<p>5 rows × 144 columns</p>\n",
              "</div>\n",
              "      <button class=\"colab-df-convert\" onclick=\"convertToInteractive('df-aa5cce65-03a3-4432-8c29-624cfb1afcfd')\"\n",
              "              title=\"Convert this dataframe to an interactive table.\"\n",
              "              style=\"display:none;\">\n",
              "        \n",
              "  <svg xmlns=\"http://www.w3.org/2000/svg\" height=\"24px\"viewBox=\"0 0 24 24\"\n",
              "       width=\"24px\">\n",
              "    <path d=\"M0 0h24v24H0V0z\" fill=\"none\"/>\n",
              "    <path d=\"M18.56 5.44l.94 2.06.94-2.06 2.06-.94-2.06-.94-.94-2.06-.94 2.06-2.06.94zm-11 1L8.5 8.5l.94-2.06 2.06-.94-2.06-.94L8.5 2.5l-.94 2.06-2.06.94zm10 10l.94 2.06.94-2.06 2.06-.94-2.06-.94-.94-2.06-.94 2.06-2.06.94z\"/><path d=\"M17.41 7.96l-1.37-1.37c-.4-.4-.92-.59-1.43-.59-.52 0-1.04.2-1.43.59L10.3 9.45l-7.72 7.72c-.78.78-.78 2.05 0 2.83L4 21.41c.39.39.9.59 1.41.59.51 0 1.02-.2 1.41-.59l7.78-7.78 2.81-2.81c.8-.78.8-2.07 0-2.86zM5.41 20L4 18.59l7.72-7.72 1.47 1.35L5.41 20z\"/>\n",
              "  </svg>\n",
              "      </button>\n",
              "      \n",
              "  <style>\n",
              "    .colab-df-container {\n",
              "      display:flex;\n",
              "      flex-wrap:wrap;\n",
              "      gap: 12px;\n",
              "    }\n",
              "\n",
              "    .colab-df-convert {\n",
              "      background-color: #E8F0FE;\n",
              "      border: none;\n",
              "      border-radius: 50%;\n",
              "      cursor: pointer;\n",
              "      display: none;\n",
              "      fill: #1967D2;\n",
              "      height: 32px;\n",
              "      padding: 0 0 0 0;\n",
              "      width: 32px;\n",
              "    }\n",
              "\n",
              "    .colab-df-convert:hover {\n",
              "      background-color: #E2EBFA;\n",
              "      box-shadow: 0px 1px 2px rgba(60, 64, 67, 0.3), 0px 1px 3px 1px rgba(60, 64, 67, 0.15);\n",
              "      fill: #174EA6;\n",
              "    }\n",
              "\n",
              "    [theme=dark] .colab-df-convert {\n",
              "      background-color: #3B4455;\n",
              "      fill: #D2E3FC;\n",
              "    }\n",
              "\n",
              "    [theme=dark] .colab-df-convert:hover {\n",
              "      background-color: #434B5C;\n",
              "      box-shadow: 0px 1px 3px 1px rgba(0, 0, 0, 0.15);\n",
              "      filter: drop-shadow(0px 1px 2px rgba(0, 0, 0, 0.3));\n",
              "      fill: #FFFFFF;\n",
              "    }\n",
              "  </style>\n",
              "\n",
              "      <script>\n",
              "        const buttonEl =\n",
              "          document.querySelector('#df-aa5cce65-03a3-4432-8c29-624cfb1afcfd button.colab-df-convert');\n",
              "        buttonEl.style.display =\n",
              "          google.colab.kernel.accessAllowed ? 'block' : 'none';\n",
              "\n",
              "        async function convertToInteractive(key) {\n",
              "          const element = document.querySelector('#df-aa5cce65-03a3-4432-8c29-624cfb1afcfd');\n",
              "          const dataTable =\n",
              "            await google.colab.kernel.invokeFunction('convertToInteractive',\n",
              "                                                     [key], {});\n",
              "          if (!dataTable) return;\n",
              "\n",
              "          const docLinkHtml = 'Like what you see? Visit the ' +\n",
              "            '<a target=\"_blank\" href=https://colab.research.google.com/notebooks/data_table.ipynb>data table notebook</a>'\n",
              "            + ' to learn more about interactive tables.';\n",
              "          element.innerHTML = '';\n",
              "          dataTable['output_type'] = 'display_data';\n",
              "          await google.colab.output.renderOutput(dataTable, element);\n",
              "          const docLink = document.createElement('div');\n",
              "          docLink.innerHTML = docLinkHtml;\n",
              "          element.appendChild(docLink);\n",
              "        }\n",
              "      </script>\n",
              "    </div>\n",
              "  </div>\n",
              "  "
            ]
          },
          "metadata": {},
          "execution_count": 41
        }
      ]
    },
    {
      "cell_type": "code",
      "source": [
        "# Establish target and feature fields\n",
        "y = df['Default']\n",
        "X = df.drop('Default', axis=1)\n",
        "\n",
        "# Scale the feature values prior to modeling\n",
        "scale = StandardScaler()\n",
        "X_scaled = scale.fit_transform(X)\n",
        "\n",
        "X_train, X_test, y_train, y_test = train_test_split(X_scaled, y, test_size=0.25)"
      ],
      "metadata": {
        "id": "ecfIqn8Fyh0l"
      },
      "execution_count": null,
      "outputs": []
    },
    {
      "cell_type": "code",
      "source": [
        "from sklearn.linear_model import LogisticRegression\n",
        "from sklearn.tree import DecisionTreeClassifier\n",
        "from sklearn.neighbors import KNeighborsClassifier\n",
        "from sklearn.ensemble import RandomForestClassifier\n",
        "from xgboost import XGBClassifier\n",
        "from sklearn.metrics import classification_report\n",
        "from sklearn.metrics import confusion_matrix\n",
        "from sklearn.feature_selection import mutual_info_classif\n",
        "from sklearn.metrics import f1_score\n",
        "from sklearn.metrics import precision_score,recall_score,accuracy_score"
      ],
      "metadata": {
        "id": "xoaRGDqyzwW8"
      },
      "execution_count": null,
      "outputs": []
    },
    {
      "cell_type": "code",
      "source": [
        "df_perf_metrics = pd.DataFrame(columns=[\n",
        "    'Model', 'Accuracy_Training_Set', 'Accuracy_Test_Set', 'Precision',\n",
        "    'Recall', 'f1_score'\n",
        "])\n",
        "models_trained_list = []\n",
        "\n",
        "\n",
        "def get_perf_metrics(model, i):\n",
        "    # model name\n",
        "    model_name = type(model).__name__\n",
        "    print(\"Training {} model...\".format(model_name))\n",
        "    # Fitting of model\n",
        "    model.fit(X_train, y_train)\n",
        "    print(\"Completed {} model training.\".format(model_name))\n",
        "    # Predictions\n",
        "    y_pred = model.predict(X_test)\n",
        "    # Add to ith row of dataframe - metrics\n",
        "\n",
        "    df_perf_metrics.loc[i] = [\n",
        "        model_name,\n",
        "        model.score(X_train, y_train),\n",
        "        model.score(X_test, y_test),\n",
        "        precision_score(y_test, y_pred),\n",
        "        recall_score(y_test, y_pred),\n",
        "        f1_score(y_test, y_pred),\n",
        "    ]\n",
        "   \n",
        "    print(\"Completed {} model's performance assessment.\".format(model_name))"
      ],
      "metadata": {
        "id": "QUGZ_xVKz3c_"
      },
      "execution_count": null,
      "outputs": []
    },
    {
      "cell_type": "code",
      "source": [
        "models_list = [LogisticRegression(),\n",
        "               XGBClassifier()\n",
        "               ]"
      ],
      "metadata": {
        "id": "IIzSfoN10F9o"
      },
      "execution_count": null,
      "outputs": []
    },
    {
      "cell_type": "code",
      "source": [
        "from sklearn.metrics import r2_score,f1_score\n",
        "for n, model in enumerate(models_list):\n",
        "    get_perf_metrics(model, n)"
      ],
      "metadata": {
        "colab": {
          "base_uri": "https://localhost:8080/"
        },
        "id": "cDG_v5S-0JBU",
        "outputId": "f8edbe44-f7f1-4474-86ff-1d9e30fe1363"
      },
      "execution_count": null,
      "outputs": [
        {
          "output_type": "stream",
          "name": "stdout",
          "text": [
            "Training LogisticRegression model...\n",
            "Completed LogisticRegression model training.\n",
            "Completed LogisticRegression model's performance assessment.\n",
            "Training XGBClassifier model...\n",
            "Completed XGBClassifier model training.\n",
            "Completed XGBClassifier model's performance assessment.\n"
          ]
        }
      ]
    },
    {
      "cell_type": "code",
      "source": [
        "df_perf_metrics"
      ],
      "metadata": {
        "colab": {
          "base_uri": "https://localhost:8080/",
          "height": 112
        },
        "id": "w6xSebWX0PEb",
        "outputId": "b834ad63-6dcd-4a7d-b92e-73f865183f4f"
      },
      "execution_count": null,
      "outputs": [
        {
          "output_type": "execute_result",
          "data": {
            "text/plain": [
              "                Model  Accuracy_Training_Set  Accuracy_Test_Set  Precision  \\\n",
              "0  LogisticRegression               0.860593           0.859311   0.743701   \n",
              "1       XGBClassifier               0.961722           0.955621   0.906888   \n",
              "\n",
              "     Recall  f1_score  \n",
              "0  0.530174  0.619042  \n",
              "1  0.885033  0.895827  "
            ],
            "text/html": [
              "\n",
              "  <div id=\"df-0c0ef2fa-2566-4ed3-bd07-2983ec69a93f\">\n",
              "    <div class=\"colab-df-container\">\n",
              "      <div>\n",
              "<style scoped>\n",
              "    .dataframe tbody tr th:only-of-type {\n",
              "        vertical-align: middle;\n",
              "    }\n",
              "\n",
              "    .dataframe tbody tr th {\n",
              "        vertical-align: top;\n",
              "    }\n",
              "\n",
              "    .dataframe thead th {\n",
              "        text-align: right;\n",
              "    }\n",
              "</style>\n",
              "<table border=\"1\" class=\"dataframe\">\n",
              "  <thead>\n",
              "    <tr style=\"text-align: right;\">\n",
              "      <th></th>\n",
              "      <th>Model</th>\n",
              "      <th>Accuracy_Training_Set</th>\n",
              "      <th>Accuracy_Test_Set</th>\n",
              "      <th>Precision</th>\n",
              "      <th>Recall</th>\n",
              "      <th>f1_score</th>\n",
              "    </tr>\n",
              "  </thead>\n",
              "  <tbody>\n",
              "    <tr>\n",
              "      <th>0</th>\n",
              "      <td>LogisticRegression</td>\n",
              "      <td>0.860593</td>\n",
              "      <td>0.859311</td>\n",
              "      <td>0.743701</td>\n",
              "      <td>0.530174</td>\n",
              "      <td>0.619042</td>\n",
              "    </tr>\n",
              "    <tr>\n",
              "      <th>1</th>\n",
              "      <td>XGBClassifier</td>\n",
              "      <td>0.961722</td>\n",
              "      <td>0.955621</td>\n",
              "      <td>0.906888</td>\n",
              "      <td>0.885033</td>\n",
              "      <td>0.895827</td>\n",
              "    </tr>\n",
              "  </tbody>\n",
              "</table>\n",
              "</div>\n",
              "      <button class=\"colab-df-convert\" onclick=\"convertToInteractive('df-0c0ef2fa-2566-4ed3-bd07-2983ec69a93f')\"\n",
              "              title=\"Convert this dataframe to an interactive table.\"\n",
              "              style=\"display:none;\">\n",
              "        \n",
              "  <svg xmlns=\"http://www.w3.org/2000/svg\" height=\"24px\"viewBox=\"0 0 24 24\"\n",
              "       width=\"24px\">\n",
              "    <path d=\"M0 0h24v24H0V0z\" fill=\"none\"/>\n",
              "    <path d=\"M18.56 5.44l.94 2.06.94-2.06 2.06-.94-2.06-.94-.94-2.06-.94 2.06-2.06.94zm-11 1L8.5 8.5l.94-2.06 2.06-.94-2.06-.94L8.5 2.5l-.94 2.06-2.06.94zm10 10l.94 2.06.94-2.06 2.06-.94-2.06-.94-.94-2.06-.94 2.06-2.06.94z\"/><path d=\"M17.41 7.96l-1.37-1.37c-.4-.4-.92-.59-1.43-.59-.52 0-1.04.2-1.43.59L10.3 9.45l-7.72 7.72c-.78.78-.78 2.05 0 2.83L4 21.41c.39.39.9.59 1.41.59.51 0 1.02-.2 1.41-.59l7.78-7.78 2.81-2.81c.8-.78.8-2.07 0-2.86zM5.41 20L4 18.59l7.72-7.72 1.47 1.35L5.41 20z\"/>\n",
              "  </svg>\n",
              "      </button>\n",
              "      \n",
              "  <style>\n",
              "    .colab-df-container {\n",
              "      display:flex;\n",
              "      flex-wrap:wrap;\n",
              "      gap: 12px;\n",
              "    }\n",
              "\n",
              "    .colab-df-convert {\n",
              "      background-color: #E8F0FE;\n",
              "      border: none;\n",
              "      border-radius: 50%;\n",
              "      cursor: pointer;\n",
              "      display: none;\n",
              "      fill: #1967D2;\n",
              "      height: 32px;\n",
              "      padding: 0 0 0 0;\n",
              "      width: 32px;\n",
              "    }\n",
              "\n",
              "    .colab-df-convert:hover {\n",
              "      background-color: #E2EBFA;\n",
              "      box-shadow: 0px 1px 2px rgba(60, 64, 67, 0.3), 0px 1px 3px 1px rgba(60, 64, 67, 0.15);\n",
              "      fill: #174EA6;\n",
              "    }\n",
              "\n",
              "    [theme=dark] .colab-df-convert {\n",
              "      background-color: #3B4455;\n",
              "      fill: #D2E3FC;\n",
              "    }\n",
              "\n",
              "    [theme=dark] .colab-df-convert:hover {\n",
              "      background-color: #434B5C;\n",
              "      box-shadow: 0px 1px 3px 1px rgba(0, 0, 0, 0.15);\n",
              "      filter: drop-shadow(0px 1px 2px rgba(0, 0, 0, 0.3));\n",
              "      fill: #FFFFFF;\n",
              "    }\n",
              "  </style>\n",
              "\n",
              "      <script>\n",
              "        const buttonEl =\n",
              "          document.querySelector('#df-0c0ef2fa-2566-4ed3-bd07-2983ec69a93f button.colab-df-convert');\n",
              "        buttonEl.style.display =\n",
              "          google.colab.kernel.accessAllowed ? 'block' : 'none';\n",
              "\n",
              "        async function convertToInteractive(key) {\n",
              "          const element = document.querySelector('#df-0c0ef2fa-2566-4ed3-bd07-2983ec69a93f');\n",
              "          const dataTable =\n",
              "            await google.colab.kernel.invokeFunction('convertToInteractive',\n",
              "                                                     [key], {});\n",
              "          if (!dataTable) return;\n",
              "\n",
              "          const docLinkHtml = 'Like what you see? Visit the ' +\n",
              "            '<a target=\"_blank\" href=https://colab.research.google.com/notebooks/data_table.ipynb>data table notebook</a>'\n",
              "            + ' to learn more about interactive tables.';\n",
              "          element.innerHTML = '';\n",
              "          dataTable['output_type'] = 'display_data';\n",
              "          await google.colab.output.renderOutput(dataTable, element);\n",
              "          const docLink = document.createElement('div');\n",
              "          docLink.innerHTML = docLinkHtml;\n",
              "          element.appendChild(docLink);\n",
              "        }\n",
              "      </script>\n",
              "    </div>\n",
              "  </div>\n",
              "  "
            ]
          },
          "metadata": {},
          "execution_count": 47
        }
      ]
    },
    {
      "cell_type": "code",
      "source": [
        "models_list2 = [DecisionTreeClassifier(),\n",
        "               RandomForestClassifier()\n",
        "               ]"
      ],
      "metadata": {
        "id": "i2ArWKkYbFPz"
      },
      "execution_count": null,
      "outputs": []
    },
    {
      "cell_type": "code",
      "source": [
        "from sklearn.metrics import r2_score,f1_score\n",
        "for n, model in enumerate(models_list2):\n",
        "    get_perf_metrics(model, n)"
      ],
      "metadata": {
        "colab": {
          "base_uri": "https://localhost:8080/"
        },
        "outputId": "e89b96b3-466f-4afc-ffb4-22fed7660493",
        "id": "brUZMQB5bFP1"
      },
      "execution_count": null,
      "outputs": [
        {
          "output_type": "stream",
          "name": "stdout",
          "text": [
            "Training DecisionTreeClassifier model...\n",
            "Completed DecisionTreeClassifier model training.\n",
            "Completed DecisionTreeClassifier model's performance assessment.\n",
            "Training RandomForestClassifier model...\n",
            "Completed RandomForestClassifier model training.\n",
            "Completed RandomForestClassifier model's performance assessment.\n"
          ]
        }
      ]
    },
    {
      "cell_type": "code",
      "source": [
        "df_perf_metrics"
      ],
      "metadata": {
        "colab": {
          "base_uri": "https://localhost:8080/",
          "height": 112
        },
        "outputId": "b0b276af-4f18-49e9-f63d-c811ea4efb66",
        "id": "L1Qd1smbbFP3"
      },
      "execution_count": null,
      "outputs": [
        {
          "output_type": "execute_result",
          "data": {
            "text/plain": [
              "                    Model  Accuracy_Training_Set  Accuracy_Test_Set  \\\n",
              "0  DecisionTreeClassifier               1.000000           0.933778   \n",
              "1  RandomForestClassifier               0.999988           0.946264   \n",
              "\n",
              "   Precision    Recall  f1_score  \n",
              "0   0.844856  0.848702  0.846775  \n",
              "1   0.922205  0.819929  0.868065  "
            ],
            "text/html": [
              "\n",
              "  <div id=\"df-f891fb2a-a4ae-452a-841a-39e56bf634e0\">\n",
              "    <div class=\"colab-df-container\">\n",
              "      <div>\n",
              "<style scoped>\n",
              "    .dataframe tbody tr th:only-of-type {\n",
              "        vertical-align: middle;\n",
              "    }\n",
              "\n",
              "    .dataframe tbody tr th {\n",
              "        vertical-align: top;\n",
              "    }\n",
              "\n",
              "    .dataframe thead th {\n",
              "        text-align: right;\n",
              "    }\n",
              "</style>\n",
              "<table border=\"1\" class=\"dataframe\">\n",
              "  <thead>\n",
              "    <tr style=\"text-align: right;\">\n",
              "      <th></th>\n",
              "      <th>Model</th>\n",
              "      <th>Accuracy_Training_Set</th>\n",
              "      <th>Accuracy_Test_Set</th>\n",
              "      <th>Precision</th>\n",
              "      <th>Recall</th>\n",
              "      <th>f1_score</th>\n",
              "    </tr>\n",
              "  </thead>\n",
              "  <tbody>\n",
              "    <tr>\n",
              "      <th>0</th>\n",
              "      <td>DecisionTreeClassifier</td>\n",
              "      <td>1.000000</td>\n",
              "      <td>0.933778</td>\n",
              "      <td>0.844856</td>\n",
              "      <td>0.848702</td>\n",
              "      <td>0.846775</td>\n",
              "    </tr>\n",
              "    <tr>\n",
              "      <th>1</th>\n",
              "      <td>RandomForestClassifier</td>\n",
              "      <td>0.999988</td>\n",
              "      <td>0.946264</td>\n",
              "      <td>0.922205</td>\n",
              "      <td>0.819929</td>\n",
              "      <td>0.868065</td>\n",
              "    </tr>\n",
              "  </tbody>\n",
              "</table>\n",
              "</div>\n",
              "      <button class=\"colab-df-convert\" onclick=\"convertToInteractive('df-f891fb2a-a4ae-452a-841a-39e56bf634e0')\"\n",
              "              title=\"Convert this dataframe to an interactive table.\"\n",
              "              style=\"display:none;\">\n",
              "        \n",
              "  <svg xmlns=\"http://www.w3.org/2000/svg\" height=\"24px\"viewBox=\"0 0 24 24\"\n",
              "       width=\"24px\">\n",
              "    <path d=\"M0 0h24v24H0V0z\" fill=\"none\"/>\n",
              "    <path d=\"M18.56 5.44l.94 2.06.94-2.06 2.06-.94-2.06-.94-.94-2.06-.94 2.06-2.06.94zm-11 1L8.5 8.5l.94-2.06 2.06-.94-2.06-.94L8.5 2.5l-.94 2.06-2.06.94zm10 10l.94 2.06.94-2.06 2.06-.94-2.06-.94-.94-2.06-.94 2.06-2.06.94z\"/><path d=\"M17.41 7.96l-1.37-1.37c-.4-.4-.92-.59-1.43-.59-.52 0-1.04.2-1.43.59L10.3 9.45l-7.72 7.72c-.78.78-.78 2.05 0 2.83L4 21.41c.39.39.9.59 1.41.59.51 0 1.02-.2 1.41-.59l7.78-7.78 2.81-2.81c.8-.78.8-2.07 0-2.86zM5.41 20L4 18.59l7.72-7.72 1.47 1.35L5.41 20z\"/>\n",
              "  </svg>\n",
              "      </button>\n",
              "      \n",
              "  <style>\n",
              "    .colab-df-container {\n",
              "      display:flex;\n",
              "      flex-wrap:wrap;\n",
              "      gap: 12px;\n",
              "    }\n",
              "\n",
              "    .colab-df-convert {\n",
              "      background-color: #E8F0FE;\n",
              "      border: none;\n",
              "      border-radius: 50%;\n",
              "      cursor: pointer;\n",
              "      display: none;\n",
              "      fill: #1967D2;\n",
              "      height: 32px;\n",
              "      padding: 0 0 0 0;\n",
              "      width: 32px;\n",
              "    }\n",
              "\n",
              "    .colab-df-convert:hover {\n",
              "      background-color: #E2EBFA;\n",
              "      box-shadow: 0px 1px 2px rgba(60, 64, 67, 0.3), 0px 1px 3px 1px rgba(60, 64, 67, 0.15);\n",
              "      fill: #174EA6;\n",
              "    }\n",
              "\n",
              "    [theme=dark] .colab-df-convert {\n",
              "      background-color: #3B4455;\n",
              "      fill: #D2E3FC;\n",
              "    }\n",
              "\n",
              "    [theme=dark] .colab-df-convert:hover {\n",
              "      background-color: #434B5C;\n",
              "      box-shadow: 0px 1px 3px 1px rgba(0, 0, 0, 0.15);\n",
              "      filter: drop-shadow(0px 1px 2px rgba(0, 0, 0, 0.3));\n",
              "      fill: #FFFFFF;\n",
              "    }\n",
              "  </style>\n",
              "\n",
              "      <script>\n",
              "        const buttonEl =\n",
              "          document.querySelector('#df-f891fb2a-a4ae-452a-841a-39e56bf634e0 button.colab-df-convert');\n",
              "        buttonEl.style.display =\n",
              "          google.colab.kernel.accessAllowed ? 'block' : 'none';\n",
              "\n",
              "        async function convertToInteractive(key) {\n",
              "          const element = document.querySelector('#df-f891fb2a-a4ae-452a-841a-39e56bf634e0');\n",
              "          const dataTable =\n",
              "            await google.colab.kernel.invokeFunction('convertToInteractive',\n",
              "                                                     [key], {});\n",
              "          if (!dataTable) return;\n",
              "\n",
              "          const docLinkHtml = 'Like what you see? Visit the ' +\n",
              "            '<a target=\"_blank\" href=https://colab.research.google.com/notebooks/data_table.ipynb>data table notebook</a>'\n",
              "            + ' to learn more about interactive tables.';\n",
              "          element.innerHTML = '';\n",
              "          dataTable['output_type'] = 'display_data';\n",
              "          await google.colab.output.renderOutput(dataTable, element);\n",
              "          const docLink = document.createElement('div');\n",
              "          docLink.innerHTML = docLinkHtml;\n",
              "          element.appendChild(docLink);\n",
              "        }\n",
              "      </script>\n",
              "    </div>\n",
              "  </div>\n",
              "  "
            ]
          },
          "metadata": {},
          "execution_count": 51
        }
      ]
    },
    {
      "cell_type": "code",
      "source": [
        "df['Default'].value_counts()"
      ],
      "metadata": {
        "colab": {
          "base_uri": "https://localhost:8080/"
        },
        "id": "Zcyo7a0FdEdG",
        "outputId": "db82005f-6349-477e-d23d-e616ed3a2bdd"
      },
      "execution_count": null,
      "outputs": [
        {
          "output_type": "execute_result",
          "data": {
            "text/plain": [
              "0    358180\n",
              "1     98343\n",
              "Name: Default, dtype: int64"
            ]
          },
          "metadata": {},
          "execution_count": 55
        }
      ]
    },
    {
      "cell_type": "markdown",
      "source": [
        "The ratio of target column show 78 : 22, we can't do balancing process to remodify the dataset because the difference is very high."
      ],
      "metadata": {
        "id": "kYuXrU-ceFij"
      }
    },
    {
      "cell_type": "markdown",
      "source": [
        "From model evaluation above, we know that the target data is not balance, so we can take out or ignore the accuracy score. XGBoost and Random Forest are the model with high score in precision, recall, and f1 score. But we will choose XGboost (the highest) for the next tuning parameter process."
      ],
      "metadata": {
        "id": "bTV4puvmdEvE"
      }
    },
    {
      "cell_type": "code",
      "source": [
        "# Create the confusion matrix\n",
        "cm = confusion_matrix(y_test, model.predict(X_test))\n",
        "x_axis_labels = ['PIF', 'CHGOFF']\n",
        "y_axis_labels = ['PIF', 'CHGOFF']\n",
        "\n",
        "plt.figure(figsize = (10,8))\n",
        "sns.heatmap(cm, annot=True, cmap= 'flare',  fmt='d', cbar=True, \n",
        "            xticklabels=x_axis_labels, yticklabels=y_axis_labels)\n",
        "plt.xlabel('Predicted Label', fontweight='bold')\n",
        "plt.ylabel('Truth Label', fontweight='bold')\n",
        "plt.title('Confusion Matrix - Xgboost', fontweight='bold')"
      ],
      "metadata": {
        "colab": {
          "base_uri": "https://localhost:8080/",
          "height": 531
        },
        "id": "9h942xX3eCjV",
        "outputId": "a06fd681-44a8-4642-c5c9-56e1aab36fbe"
      },
      "execution_count": null,
      "outputs": [
        {
          "output_type": "execute_result",
          "data": {
            "text/plain": [
              "Text(0.5, 1.0, 'Confusion Matrix - Xgboost')"
            ]
          },
          "metadata": {},
          "execution_count": 58
        },
        {
          "output_type": "display_data",
          "data": {
            "text/plain": [
              "<Figure size 720x576 with 2 Axes>"
            ],
            "image/png": "[encoded data removed]"
          },
          "metadata": {
            "needs_background": "light"
          }
        }
      ]
    },
    {
      "cell_type": "markdown",
      "metadata": {
        "id": "zO_F9k40j6R7"
      },
      "source": [
        "# Model Explanation\n",
        "\n"
      ]
    },
    {
      "cell_type": "markdown",
      "source": [
        "We will use importance analysis to show what features have the biggest impact on predictions."
      ],
      "metadata": {
        "id": "Yt0CFswmj-lb"
      }
    },
    {
      "cell_type": "code",
      "source": [
        "xgboost = XGBClassifier(random_state=2)\n",
        "\n",
        "xgboost.fit(X_train, y_train)\n",
        "y_xgbpred = xgboost.predict(X_test)\n",
        "\n",
        "# Print the results\n",
        "print(classification_report(y_test, y_xgbpred, digits=3))"
      ],
      "metadata": {
        "colab": {
          "base_uri": "https://localhost:8080/"
        },
        "id": "zk6gAxnqlfk1",
        "outputId": "1bfd0762-b3a5-41ab-fbd6-7dc20b04e24c"
      },
      "execution_count": null,
      "outputs": [
        {
          "output_type": "stream",
          "name": "stdout",
          "text": [
            "              precision    recall  f1-score   support\n",
            "\n",
            "           0      0.969     0.975     0.972     89524\n",
            "           1      0.907     0.885     0.896     24607\n",
            "\n",
            "    accuracy                          0.956    114131\n",
            "   macro avg      0.938     0.930     0.934    114131\n",
            "weighted avg      0.955     0.956     0.955    114131\n",
            "\n"
          ]
        }
      ]
    },
    {
      "cell_type": "code",
      "source": [
        "# List the importance of each feature\n",
        "for name, importance in sorted(zip(X.columns, xgboost.feature_importances_)):\n",
        "    print(name, \"=\", importance)"
      ],
      "metadata": {
        "colab": {
          "base_uri": "https://localhost:8080/"
        },
        "id": "CKB8vxuBkapy",
        "outputId": "d9ce37be-913c-4bc2-b271-de7df9099ca0"
      },
      "execution_count": null,
      "outputs": [
        {
          "output_type": "stream",
          "name": "stdout",
          "text": [
            "ApprovalFY = 0.03634204\n",
            "BankState_AK = 0.0\n",
            "BankState_AL = 0.004941873\n",
            "BankState_AN = 0.0\n",
            "BankState_AR = 0.0040860684\n",
            "BankState_AZ = 0.0\n",
            "BankState_CA = 0.03248335\n",
            "BankState_CO = 0.0\n",
            "BankState_CT = 0.0031207525\n",
            "BankState_DC = 0.0\n",
            "BankState_DE = 0.03179135\n",
            "BankState_FL = 0.008785039\n",
            "BankState_GA = 0.006677281\n",
            "BankState_GU = 0.0\n",
            "BankState_HI = 0.0038878014\n",
            "BankState_IA = 0.003999281\n",
            "BankState_ID = 0.0017534094\n",
            "BankState_IL = 0.021566408\n",
            "BankState_IN = 0.007164296\n",
            "BankState_KS = 0.0064335912\n",
            "BankState_KY = 0.00025811844\n",
            "BankState_LA = 0.0\n",
            "BankState_MA = 0.00073898\n",
            "BankState_MD = 0.004498759\n",
            "BankState_ME = 0.00072993775\n",
            "BankState_MI = 0.0029701623\n",
            "BankState_MN = 0.004920809\n",
            "BankState_MO = 0.003928093\n",
            "BankState_MS = 0.00624736\n",
            "BankState_MT = 0.013034752\n",
            "BankState_NC = 0.049240757\n",
            "BankState_ND = 0.0017184158\n",
            "BankState_NE = 0.0014654808\n",
            "BankState_NH = 0.0\n",
            "BankState_NJ = 0.0025549242\n",
            "BankState_NM = 0.001161742\n",
            "BankState_NV = 0.0019389744\n",
            "BankState_NY = 0.005224294\n",
            "BankState_OH = 0.011368314\n",
            "BankState_OK = 0.002702819\n",
            "BankState_OR = 0.01300849\n",
            "BankState_PA = 0.028586002\n",
            "BankState_PR = 0.0\n",
            "BankState_RI = 0.008146375\n",
            "BankState_SC = 0.005548659\n",
            "BankState_SD = 0.0063547073\n",
            "BankState_TN = 0.002507984\n",
            "BankState_TX = 0.00708968\n",
            "BankState_UT = 0.004114019\n",
            "BankState_VA = 0.029419137\n",
            "BankState_VT = 0.010564952\n",
            "BankState_WA = 0.0\n",
            "BankState_WI = 0.0025979322\n",
            "BankState_WV = 0.0015689436\n",
            "BankState_WY = 0.001513598\n",
            "CreateJob = 0.0015426035\n",
            "DaysToDisbursement = 0.004619328\n",
            "DisbursementFY = 0.02626601\n",
            "DisbursementGross = 0.004271785\n",
            "GrAppv = 0.008846222\n",
            "Industry_Accom/Food_serv = 0.004811022\n",
            "Industry_Admin_sup/Waste_Mgmt_Rem = 0.0016421184\n",
            "Industry_Ag/For/Fish/Hunt = 0.0056944094\n",
            "Industry_Arts/Entertain/Rec = 0.0016078203\n",
            "Industry_Construction = 0.0020500978\n",
            "Industry_Educational = 0.0021486122\n",
            "Industry_Finance/Insurance = 0.0024618062\n",
            "Industry_Healthcare/Social_assist = 0.014946971\n",
            "Industry_Information = 0.0017493374\n",
            "Industry_Manufacturing = 0.0012201024\n",
            "Industry_Mgmt_comp = 0.0\n",
            "Industry_Min/Quar/Oil_Gas_ext = 0.0041591115\n",
            "Industry_Other_no_pub = 0.0013529381\n",
            "Industry_Prof/Science/Tech = 0.0062928153\n",
            "Industry_Public_Admin = 0.0\n",
            "Industry_RE/Rental/Lease = 0.0019977596\n",
            "Industry_Retail_trade = 0.0047235717\n",
            "Industry_Trans/Ware = 0.00251845\n",
            "Industry_Utilities = 0.0\n",
            "Industry_Wholesale_trade = 0.0017951992\n",
            "IsFranchise = 0.0016201527\n",
            "LowDoc = 0.008385408\n",
            "NewBusiness = 0.004348281\n",
            "NoEmp = 0.0029969055\n",
            "RetainedJob = 0.0024794082\n",
            "RevLineCr = 0.012049753\n",
            "SBA_AppvPct = 0.017949559\n",
            "StateSame = 0.055208113\n",
            "State_AK = 0.0023731699\n",
            "State_AL = 0.0022993586\n",
            "State_AR = 0.0035352337\n",
            "State_AZ = 0.0033476707\n",
            "State_CA = 0.027373035\n",
            "State_CO = 0.0021403064\n",
            "State_CT = 0.0030218319\n",
            "State_DC = 0.0044402736\n",
            "State_DE = 0.0024413667\n",
            "State_FL = 0.008892599\n",
            "State_GA = 0.004581123\n",
            "State_HI = 0.0\n",
            "State_IA = 0.0021006986\n",
            "State_ID = 0.0010627301\n",
            "State_IL = 0.008209145\n",
            "State_IN = 0.0015961037\n",
            "State_KS = 0.0\n",
            "State_KY = 0.005222524\n",
            "State_LA = 0.003479109\n",
            "State_MA = 0.003546876\n",
            "State_MD = 0.0034299023\n",
            "State_ME = 0.005112102\n",
            "State_MI = 0.0061712367\n",
            "State_MN = 0.0032061457\n",
            "State_MO = 0.0\n",
            "State_MS = 0.008762621\n",
            "State_MT = 0.0051605045\n",
            "State_NC = 0.002533826\n",
            "State_ND = 0.0037436732\n",
            "State_NE = 0.0\n",
            "State_NH = 0.0030795082\n",
            "State_NJ = 0.0036092247\n",
            "State_NM = 0.0\n",
            "State_NV = 0.0058721704\n",
            "State_NY = 0.0057353135\n",
            "State_OH = 0.006733192\n",
            "State_OK = 0.0037330308\n",
            "State_OR = 0.0\n",
            "State_PA = 0.007498614\n",
            "State_RI = 0.0\n",
            "State_SC = 0.0010151175\n",
            "State_SD = 0.0018090388\n",
            "State_TN = 0.0017920017\n",
            "State_TX = 0.0040530753\n",
            "State_UT = 0.01640752\n",
            "State_VA = 0.0020948874\n",
            "State_VT = 0.005930644\n",
            "State_WA = 0.003044359\n",
            "State_WI = 0.00420436\n",
            "State_WV = 0.0\n",
            "State_WY = 0.0058905035\n",
            "Term = 0.088553175\n",
            "UrbanRural_0 = 0.05562521\n",
            "UrbanRural_1 = 0.023020092\n",
            "UrbanRural_2 = 0.0020044346\n"
          ]
        }
      ]
    },
    {
      "cell_type": "code",
      "source": [
        "# Build pipeling for feature selection and modeling; SelectKBest defaults to top 10 features\n",
        "xgb_featimp = XGBClassifier(random_state=2)\n",
        "\n",
        "pipe = Pipeline(steps=[\n",
        "    ('feature_selection', SelectKBest()),\n",
        "    ('model', xgb_featimp)\n",
        "])\n",
        "\n",
        "pipe.fit(X_train, y_train)\n",
        "y_featimppred = pipe.predict(X_test)\n",
        "\n",
        "print(classification_report(y_test, y_featimppred, digits=3))"
      ],
      "metadata": {
        "colab": {
          "base_uri": "https://localhost:8080/"
        },
        "id": "6czngkgFoLUg",
        "outputId": "8b8dd377-ac76-4fc1-eb41-b6e00dbc0696"
      },
      "execution_count": null,
      "outputs": [
        {
          "output_type": "stream",
          "name": "stdout",
          "text": [
            "              precision    recall  f1-score   support\n",
            "\n",
            "           0      0.966     0.969     0.967     89524\n",
            "           1      0.884     0.875     0.880     24607\n",
            "\n",
            "    accuracy                          0.948    114131\n",
            "   macro avg      0.925     0.922     0.923    114131\n",
            "weighted avg      0.948     0.948     0.948    114131\n",
            "\n"
          ]
        }
      ]
    },
    {
      "cell_type": "markdown",
      "source": [
        "It looks like reducing the number of features, and thereby dimensionality of the data, didn't affect the results too drastically. In fact, this model would likely perform better in a real world test because it is far more generalized. Let's take a look at what features were actually selected then."
      ],
      "metadata": {
        "id": "0aAcQYcflVAu"
      }
    },
    {
      "cell_type": "code",
      "source": [
        "# List the importance of each feature\n",
        "for name, importance in sorted(zip(X.columns, xgb_featimp.feature_importances_)):\n",
        "    print(name, \"=\", importance)"
      ],
      "metadata": {
        "colab": {
          "base_uri": "https://localhost:8080/"
        },
        "id": "D5eEvYMooMJF",
        "outputId": "917b010f-d154-4509-be40-940bb535dd1b"
      },
      "execution_count": null,
      "outputs": [
        {
          "output_type": "stream",
          "name": "stdout",
          "text": [
            "ApprovalFY = 0.13102008\n",
            "CreateJob = 0.026480757\n",
            "DisbursementGross = 0.047658574\n",
            "GrAppv = 0.09509127\n",
            "IsFranchise = 0.07559523\n",
            "LowDoc = 0.22293459\n",
            "NoEmp = 0.017324772\n",
            "RetainedJob = 0.01678543\n",
            "RevLineCr = 0.08028162\n",
            "Term = 0.2868277\n"
          ]
        }
      ]
    },
    {
      "cell_type": "markdown",
      "source": [
        "After we recheck the model explainability, we can see that Term is the most important feature. Term of a loan is highly related to real estate ownership. Loans with longer term (>= 240 months) are loans backed by real estate, whereas loans with shorter term (<240) are not loans backed by real estate. The ownership of land or real estate is often large enough to cover the amount of any principal outstanding. So this can lead to reduce of the probability of default."
      ],
      "metadata": {
        "id": "4-JGxAuspYli"
      }
    }
  ],
  "metadata": {
    "colab": {
      "provenance": [],
      "toc_visible": true
    },
    "kernelspec": {
      "display_name": "Python 3",
      "name": "python3"
    },
    "language_info": {
      "name": "python"
    }
  },
  "nbformat": 4,
  "nbformat_minor": 0
}